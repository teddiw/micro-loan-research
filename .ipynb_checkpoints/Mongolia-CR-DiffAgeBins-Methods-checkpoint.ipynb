{
 "cells": [
  {
   "cell_type": "code",
   "execution_count": 157,
   "metadata": {},
   "outputs": [
    {
     "name": "stdout",
     "output_type": "stream",
     "text": [
      "Populating the interactive namespace from numpy and matplotlib\n"
     ]
    },
    {
     "name": "stderr",
     "output_type": "stream",
     "text": [
      "/Users/teddiworledge/anaconda3/lib/python3.6/site-packages/IPython/core/magics/pylab.py:160: UserWarning: pylab import has clobbered these variables: ['mean']\n",
      "`%matplotlib` prevents importing * from pylab and numpy\n",
      "  \"\\n`%matplotlib` prevents importing * from pylab and numpy\"\n"
     ]
    }
   ],
   "source": [
    "%pylab inline\n",
    "\n",
    "import pandas as pd\n",
    "import seaborn as sns\n",
    "import matplotlib.pyplot as plt\n",
    "from mpl_toolkits.mplot3d import Axes3D\n",
    "import seaborn as sns\n",
    "\n",
    "from methods import *"
   ]
  },
  {
   "cell_type": "code",
   "execution_count": 158,
   "metadata": {},
   "outputs": [],
   "source": [
    "#Loads files as dataframes\n",
    "data_ent_followup = create_df(\"f_Sections F,G,h - Ent.dta\", \"Analysis files/data/Followup/{0}\")\n",
    "\n",
    "data_edu_baseline = create_df(\"education.dta\", \"Analysis files/data/Baseline/{0}\")\n",
    "\n",
    "data_ent_baseline = create_df(\"Sections F,G,h - Ent.dta\", \"Analysis files/data/Baseline/{0}\")\n",
    "\n",
    "data_age_baseline = create_df(\"personal info.dta\", \"Analysis files/data/Baseline/{0}\")"
   ]
  },
  {
   "cell_type": "code",
   "execution_count": 159,
   "metadata": {},
   "outputs": [
    {
     "name": "stdout",
     "output_type": "stream",
     "text": [
      "Number of households at followup:  961\n",
      "Number of households at adjusted baseline:  961\n",
      "Number of households at followup:  961\n",
      "Number of households at adjusted baseline:  961\n",
      "Number of households at followup:  961\n",
      "Number of households at adjusted baseline:  961\n"
     ]
    }
   ],
   "source": [
    "#Removes attrition from the baseline dataframes\n",
    "updated_edu_baseline = remove_attrition(data_edu_baseline, data_ent_followup)\n",
    "updated_ent_baseline = remove_attrition(data_ent_baseline, data_ent_followup)\n",
    "updated_age_baseline = remove_attrition(data_age_baseline, data_ent_followup)"
   ]
  },
  {
   "cell_type": "code",
   "execution_count": 160,
   "metadata": {},
   "outputs": [],
   "source": [
    "#Creates big array with the desired columns of edu_baseline, ent_baseline, and ent_followup.\n",
    "#Contains the columns specified below.\n",
    "#Corrects NaN values to zero.\n",
    "ent_edu_master = updated_ent_baseline[['treatment_x', 'rescode', 'enterprise', 'soleent']].join(data_ent_followup[['f_enterprise', 'f_soleent']])\n",
    "ent_edu_master = ent_edu_master.join(updated_edu_baseline[[\"edulow\", \"eduvoc\", \"eduhigh\"]])\n",
    "ent_edu_master = ent_edu_master.join(updated_age_baseline[[\"age\"]])\n",
    "ent_edu_master = ent_edu_master.fillna(0)"
   ]
  },
  {
   "cell_type": "code",
   "execution_count": 161,
   "metadata": {},
   "outputs": [
    {
     "name": "stdout",
     "output_type": "stream",
     "text": [
      "0 ) 0\n",
      "1 ) 0\n",
      "2 ) 0\n",
      "3 ) 0\n",
      "4 ) 0\n",
      "5 ) 0\n",
      "6 ) 27\n",
      "7 ) 35\n",
      "8 ) 43\n",
      "9 ) 64\n",
      "10 ) 69\n",
      "11 ) 45\n",
      "12 ) 33\n",
      "13 ) 35\n",
      "14 ) 0\n",
      "15 ) 0\n",
      "16 ) 0\n"
     ]
    }
   ],
   "source": [
    "#Find number of participants in each age bin: 18-27, 28-31, 32-35, 36-39, 40-44, 45-47, 48-51, 52-69\n",
    "ent_edu_age8 = ent_edu_master.copy()\n",
    "\n",
    "ent_edu_age8['age'] = ent_edu_age8['age'].apply(lambda x: x//4)\n",
    "ent_edu_age8.loc[ent_edu_age8.age==4, 'age'] = 6\n",
    "ent_edu_age8.loc[ent_edu_age8.age==5, 'age'] = 6\n",
    "ent_edu_age8.loc[ent_edu_age8.age==16, 'age'] = 13\n",
    "ent_edu_age8.loc[ent_edu_age8.age==15, 'age'] = 13\n",
    "ent_edu_age8.loc[ent_edu_age8.age==14, 'age'] = 13\n",
    "\n",
    "for i in range(17):\n",
    "    print(i,')', len(ent_edu_age8.loc[(ent_edu_age8['age'] == i)&(ent_edu_age8['treatment_x']==2), :]))\n",
    "    \n",
    "ageBins = ['18-27', '28-31', '32-35', '36-39', '40-44', '45-47', '48-51', '52-69']\n",
    "\n",
    "for i in range(6, 14):\n",
    "    ent_edu_age8.loc[ent_edu_age8['age']==i, 'agebin'] = ageBins[i-6]\n",
    "    "
   ]
  },
  {
   "cell_type": "code",
   "execution_count": 162,
   "metadata": {},
   "outputs": [
    {
     "name": "stdout",
     "output_type": "stream",
     "text": [
      "0 ) 0\n",
      "1 ) 0\n",
      "2 ) 0\n",
      "3 ) 0\n",
      "4 ) 0\n",
      "5 ) 48\n",
      "6 ) 48\n",
      "7 ) 73\n",
      "8 ) 81\n",
      "9 ) 49\n",
      "10 ) 52\n",
      "11 ) 0\n",
      "12 ) 0\n",
      "13 ) 0\n",
      "14 ) 0\n"
     ]
    }
   ],
   "source": [
    "#Find number of participants in each age bin: 18-29, 30-34, 35-49, 50-54, 55-59, 60-69\n",
    "ent_edu_age6 = ent_edu_master.copy()\n",
    "\n",
    "ent_edu_age6['age'] = ent_edu_age6['age'].apply(lambda x: x//5)\n",
    "ent_edu_age6.loc[ent_edu_age6.age==3, 'age'] = 5\n",
    "ent_edu_age6.loc[ent_edu_age6.age==4, 'age'] = 5\n",
    "ent_edu_age6.loc[ent_edu_age6.age==13, 'age'] = 10\n",
    "ent_edu_age6.loc[ent_edu_age6.age==12, 'age'] = 10\n",
    "ent_edu_age6.loc[ent_edu_age6.age==11, 'age'] = 10\n",
    "\n",
    "for i in range(15):\n",
    "    print(i,')', len(ent_edu_age6.loc[(ent_edu_age6['age'] == i)&(ent_edu_age6['treatment_x']==2), :]))\n",
    "    \n",
    "ageBins = ['18-29', '30-34', '35-39', '40-44', '45-49', '50-69']\n",
    "\n",
    "for i in range(5, 11):\n",
    "    ent_edu_age6.loc[ent_edu_age6['age']==i, 'agebin'] = ageBins[i-5]"
   ]
  },
  {
   "cell_type": "code",
   "execution_count": 163,
   "metadata": {},
   "outputs": [
    {
     "name": "stdout",
     "output_type": "stream",
     "text": [
      "0 ) 0\n",
      "1 ) 0\n",
      "2 ) 48\n",
      "3 ) 121\n",
      "4 ) 130\n",
      "5 ) 52\n",
      "6 ) 0\n",
      "7 ) 0\n",
      "8 ) 0\n",
      "9 ) 0\n"
     ]
    }
   ],
   "source": [
    "#Find number of participants in each age bin: 18-29, 30-39, 40-49, 50-69\n",
    "ent_edu_age4 = ent_edu_master.copy()\n",
    "\n",
    "ent_edu_age4['age'] = ent_edu_age4['age'].apply(lambda x: x//10)\n",
    "ent_edu_age4.loc[ent_edu_age4.age==1, 'age'] = 2\n",
    "ent_edu_age4.loc[ent_edu_age4.age==6, 'age'] = 5\n",
    "\n",
    "for i in range(10):\n",
    "    print(i,')', len(ent_edu_age4.loc[(ent_edu_age4['age'] == i)&(ent_edu_age4['treatment_x']==2), :]))\n",
    "    \n",
    "ageBins = ['18-29', '30-39', '40-49', '50-69']\n",
    "\n",
    "for i in range(2, 6):\n",
    "    ent_edu_age4.loc[ent_edu_age4['age']==i, 'agebin'] = ageBins[i-2]"
   ]
  },
  {
   "cell_type": "code",
   "execution_count": 164,
   "metadata": {},
   "outputs": [
    {
     "name": "stdout",
     "output_type": "stream",
     "text": [
      "0 ) 0\n",
      "1 ) 0\n",
      "2 ) 0\n",
      "3 ) 169\n",
      "4 ) 182\n",
      "5 ) 0\n",
      "6 ) 0\n",
      "7 ) 0\n",
      "8 ) 0\n",
      "9 ) 0\n"
     ]
    }
   ],
   "source": [
    "#Find number of participants in each age bin: 18-39, 40-69\n",
    "ent_edu_age2 = ent_edu_master.copy()\n",
    "\n",
    "ent_edu_age2['age'] = ent_edu_age2['age'].apply(lambda x: x//10)\n",
    "ent_edu_age2.loc[ent_edu_age2.age==1, 'age'] = 3\n",
    "ent_edu_age2.loc[ent_edu_age2.age==6, 'age'] = 4\n",
    "ent_edu_age2.loc[ent_edu_age2.age==2, 'age'] = 3\n",
    "ent_edu_age2.loc[ent_edu_age2.age==5, 'age'] = 4\n",
    "\n",
    "for i in range(10):\n",
    "    print(i,')', len(ent_edu_age2.loc[(ent_edu_age2['age'] == i)&(ent_edu_age2['treatment_x']==2), :]))\n",
    "    \n",
    "ageBins = ['18-39', '40-69']\n",
    "\n",
    "for i in range(3, 5):\n",
    "    ent_edu_age2.loc[ent_edu_age2['age']==i, 'agebin'] = ageBins[i-3]"
   ]
  },
  {
   "cell_type": "code",
   "execution_count": 165,
   "metadata": {},
   "outputs": [],
   "source": [
    "#control: treatment_x = 0\n",
    "#individual: treatment_x = 1\n",
    "#group: treatment_x = 2\n",
    "\n",
    "#set treatment group, set positive or negative conversion rate\n",
    "treatment = 2\n",
    "POSITIVE = True"
   ]
  },
  {
   "cell_type": "code",
   "execution_count": 166,
   "metadata": {},
   "outputs": [],
   "source": [
    "#Copy of ent_edu_age2 for 'conversion rate' analysis, adds edu column. 4 or 3.\n",
    "ent_edu_conv = ent_edu_age2.copy()\n",
    "ent_edu_conv['edu'] = ent_edu_conv['edulow'] + ent_edu_conv['eduvoc'] * 2 + ent_edu_conv['eduhigh'] * 3\n",
    "#ent_edu_conv"
   ]
  },
  {
   "cell_type": "code",
   "execution_count": 167,
   "metadata": {},
   "outputs": [
    {
     "data": {
      "text/html": [
       "<div>\n",
       "<style scoped>\n",
       "    .dataframe tbody tr th:only-of-type {\n",
       "        vertical-align: middle;\n",
       "    }\n",
       "\n",
       "    .dataframe tbody tr th {\n",
       "        vertical-align: top;\n",
       "    }\n",
       "\n",
       "    .dataframe thead th {\n",
       "        text-align: right;\n",
       "    }\n",
       "</style>\n",
       "<table border=\"1\" class=\"dataframe\">\n",
       "  <thead>\n",
       "    <tr style=\"text-align: right;\">\n",
       "      <th></th>\n",
       "      <th>age</th>\n",
       "      <th>agebin</th>\n",
       "      <th>conv. rate</th>\n",
       "      <th>mean</th>\n",
       "      <th>all people</th>\n",
       "      <th>people w/o BL soleent</th>\n",
       "      <th>fraction w/o BL soleent</th>\n",
       "    </tr>\n",
       "  </thead>\n",
       "  <tbody>\n",
       "    <tr>\n",
       "      <th>0</th>\n",
       "      <td>3</td>\n",
       "      <td>18-39</td>\n",
       "      <td>0.362069</td>\n",
       "      <td>42.0</td>\n",
       "      <td>169</td>\n",
       "      <td>116</td>\n",
       "      <td>0.686391</td>\n",
       "    </tr>\n",
       "    <tr>\n",
       "      <th>1</th>\n",
       "      <td>4</td>\n",
       "      <td>40-69</td>\n",
       "      <td>0.299065</td>\n",
       "      <td>32.0</td>\n",
       "      <td>182</td>\n",
       "      <td>107</td>\n",
       "      <td>0.587912</td>\n",
       "    </tr>\n",
       "  </tbody>\n",
       "</table>\n",
       "</div>"
      ],
      "text/plain": [
       "  age agebin  conv. rate  mean all people people w/o BL soleent  \\\n",
       "0   3  18-39    0.362069  42.0        169                   116   \n",
       "1   4  40-69    0.299065  32.0        182                   107   \n",
       "\n",
       "   fraction w/o BL soleent  \n",
       "0                 0.686391  \n",
       "1                 0.587912  "
      ]
     },
     "execution_count": 167,
     "metadata": {},
     "output_type": "execute_result"
    },
    {
     "data": {
      "image/png": "[encoded data removed]",
      "text/plain": [
       "<Figure size 432x288 with 1 Axes>"
      ]
     },
     "metadata": {},
     "output_type": "display_data"
    }
   ],
   "source": [
    "#creates new data frame for 'conversion rate' analysis by age binning\n",
    "if POSITIVE:\n",
    "    ageGroup2 = pd.DataFrame(columns = ['age', 'agebin', 'conv. rate', 'mean', 'all people', 'people w/o BL soleent', 'fraction w/o BL soleent']) \n",
    "else:\n",
    "    ageGroup2 = pd.DataFrame(columns = ['age', 'agebin', 'conv. rate', 'mean', 'all people', 'people w/ BL soleent', 'fraction w/ BL soleent']) \n",
    "\n",
    "#Conversion rate chart with binning by age only\n",
    "for i in range(3, 5):\n",
    "        ageGroup2 = crTableAge(i, POSITIVE, treatment, ent_edu_conv, ageGroup2)\n",
    "\n",
    "ax = sns.barplot(x=\"agebin\", y=\"conv. rate\", data=ageGroup2)\n",
    "ageGroup2"
   ]
  },
  {
   "cell_type": "code",
   "execution_count": 168,
   "metadata": {},
   "outputs": [],
   "source": [
    "#Copy of ent_edu_age4 for 'conversion rate' analysis, adds edu column. 5, 4, 3, 2.\n",
    "ent_edu_conv = ent_edu_age4.copy()\n",
    "ent_edu_conv['edu'] = ent_edu_conv['edulow'] + ent_edu_conv['eduvoc'] * 2 + ent_edu_conv['eduhigh'] * 3\n",
    "#ent_edu_conv"
   ]
  },
  {
   "cell_type": "code",
   "execution_count": 169,
   "metadata": {},
   "outputs": [
    {
     "data": {
      "text/html": [
       "<div>\n",
       "<style scoped>\n",
       "    .dataframe tbody tr th:only-of-type {\n",
       "        vertical-align: middle;\n",
       "    }\n",
       "\n",
       "    .dataframe tbody tr th {\n",
       "        vertical-align: top;\n",
       "    }\n",
       "\n",
       "    .dataframe thead th {\n",
       "        text-align: right;\n",
       "    }\n",
       "</style>\n",
       "<table border=\"1\" class=\"dataframe\">\n",
       "  <thead>\n",
       "    <tr style=\"text-align: right;\">\n",
       "      <th></th>\n",
       "      <th>age</th>\n",
       "      <th>conv. rate</th>\n",
       "      <th>mean</th>\n",
       "      <th>all people</th>\n",
       "      <th>people w/o BL soleent</th>\n",
       "      <th>fraction w/o BL soleent</th>\n",
       "      <th>agebin</th>\n",
       "    </tr>\n",
       "  </thead>\n",
       "  <tbody>\n",
       "    <tr>\n",
       "      <th>0</th>\n",
       "      <td>2</td>\n",
       "      <td>0.300000</td>\n",
       "      <td>12.0</td>\n",
       "      <td>48</td>\n",
       "      <td>40</td>\n",
       "      <td>0.833333</td>\n",
       "      <td>18-29</td>\n",
       "    </tr>\n",
       "    <tr>\n",
       "      <th>1</th>\n",
       "      <td>3</td>\n",
       "      <td>0.394737</td>\n",
       "      <td>30.0</td>\n",
       "      <td>121</td>\n",
       "      <td>76</td>\n",
       "      <td>0.628099</td>\n",
       "      <td>30-39</td>\n",
       "    </tr>\n",
       "    <tr>\n",
       "      <th>2</th>\n",
       "      <td>4</td>\n",
       "      <td>0.277108</td>\n",
       "      <td>23.0</td>\n",
       "      <td>130</td>\n",
       "      <td>83</td>\n",
       "      <td>0.638462</td>\n",
       "      <td>40-49</td>\n",
       "    </tr>\n",
       "    <tr>\n",
       "      <th>3</th>\n",
       "      <td>5</td>\n",
       "      <td>0.375000</td>\n",
       "      <td>9.0</td>\n",
       "      <td>52</td>\n",
       "      <td>24</td>\n",
       "      <td>0.461538</td>\n",
       "      <td>50-69</td>\n",
       "    </tr>\n",
       "  </tbody>\n",
       "</table>\n",
       "</div>"
      ],
      "text/plain": [
       "  age  conv. rate  mean all people people w/o BL soleent  \\\n",
       "0   2    0.300000  12.0         48                    40   \n",
       "1   3    0.394737  30.0        121                    76   \n",
       "2   4    0.277108  23.0        130                    83   \n",
       "3   5    0.375000   9.0         52                    24   \n",
       "\n",
       "   fraction w/o BL soleent agebin  \n",
       "0                 0.833333  18-29  \n",
       "1                 0.628099  30-39  \n",
       "2                 0.638462  40-49  \n",
       "3                 0.461538  50-69  "
      ]
     },
     "execution_count": 169,
     "metadata": {},
     "output_type": "execute_result"
    },
    {
     "data": {
      "image/png": "[encoded data removed]",
      "text/plain": [
       "<Figure size 432x288 with 1 Axes>"
      ]
     },
     "metadata": {},
     "output_type": "display_data"
    }
   ],
   "source": [
    "#creates new data frame for 'conversion rate' analysis by age binning\n",
    "if POSITIVE:\n",
    "    ageGroup4 = pd.DataFrame(columns = ['age', 'conv. rate', 'mean', 'all people', 'people w/o BL soleent', 'fraction w/o BL soleent']) \n",
    "else:\n",
    "    ageGroup4 = pd.DataFrame(columns = ['age', 'conv. rate', 'mean', 'all people', 'people w/ BL soleent', 'fraction w/ BL soleent']) \n",
    "\n",
    "#Conversion rate chart with binning by age only\n",
    "for i in range(2, 6):\n",
    "        ageGroup4 = crTableAge(i, POSITIVE, treatment, ent_edu_conv, ageGroup4)\n",
    "\n",
    "ax = sns.barplot(x=\"agebin\", y=\"conv. rate\", data=ageGroup4)\n",
    "ageGroup4"
   ]
  },
  {
   "cell_type": "code",
   "execution_count": 170,
   "metadata": {},
   "outputs": [],
   "source": [
    "#Copy of ent_edu_age4 for 'conversion rate' analysis, adds edu column. 5, 6, 7, 8, 9, 10.\n",
    "ent_edu_conv = ent_edu_age6.copy()\n",
    "ent_edu_conv['edu'] = ent_edu_conv['edulow'] + ent_edu_conv['eduvoc'] * 2 + ent_edu_conv['eduhigh'] * 3\n",
    "#ent_edu_conv"
   ]
  },
  {
   "cell_type": "code",
   "execution_count": 171,
   "metadata": {},
   "outputs": [
    {
     "data": {
      "text/html": [
       "<div>\n",
       "<style scoped>\n",
       "    .dataframe tbody tr th:only-of-type {\n",
       "        vertical-align: middle;\n",
       "    }\n",
       "\n",
       "    .dataframe tbody tr th {\n",
       "        vertical-align: top;\n",
       "    }\n",
       "\n",
       "    .dataframe thead th {\n",
       "        text-align: right;\n",
       "    }\n",
       "</style>\n",
       "<table border=\"1\" class=\"dataframe\">\n",
       "  <thead>\n",
       "    <tr style=\"text-align: right;\">\n",
       "      <th></th>\n",
       "      <th>age</th>\n",
       "      <th>conv. rate</th>\n",
       "      <th>mean</th>\n",
       "      <th>all people</th>\n",
       "      <th>people w/o BL soleent</th>\n",
       "      <th>fraction w/o BL soleent</th>\n",
       "      <th>agebin</th>\n",
       "    </tr>\n",
       "  </thead>\n",
       "  <tbody>\n",
       "    <tr>\n",
       "      <th>0</th>\n",
       "      <td>5</td>\n",
       "      <td>0.300000</td>\n",
       "      <td>12.0</td>\n",
       "      <td>48</td>\n",
       "      <td>40</td>\n",
       "      <td>0.833333</td>\n",
       "      <td>18-29</td>\n",
       "    </tr>\n",
       "    <tr>\n",
       "      <th>1</th>\n",
       "      <td>6</td>\n",
       "      <td>0.310345</td>\n",
       "      <td>9.0</td>\n",
       "      <td>48</td>\n",
       "      <td>29</td>\n",
       "      <td>0.604167</td>\n",
       "      <td>30-34</td>\n",
       "    </tr>\n",
       "    <tr>\n",
       "      <th>2</th>\n",
       "      <td>7</td>\n",
       "      <td>0.446809</td>\n",
       "      <td>21.0</td>\n",
       "      <td>73</td>\n",
       "      <td>47</td>\n",
       "      <td>0.643836</td>\n",
       "      <td>35-39</td>\n",
       "    </tr>\n",
       "    <tr>\n",
       "      <th>3</th>\n",
       "      <td>8</td>\n",
       "      <td>0.280000</td>\n",
       "      <td>14.0</td>\n",
       "      <td>81</td>\n",
       "      <td>50</td>\n",
       "      <td>0.617284</td>\n",
       "      <td>40-44</td>\n",
       "    </tr>\n",
       "    <tr>\n",
       "      <th>4</th>\n",
       "      <td>9</td>\n",
       "      <td>0.272727</td>\n",
       "      <td>9.0</td>\n",
       "      <td>49</td>\n",
       "      <td>33</td>\n",
       "      <td>0.673469</td>\n",
       "      <td>45-49</td>\n",
       "    </tr>\n",
       "    <tr>\n",
       "      <th>5</th>\n",
       "      <td>10</td>\n",
       "      <td>0.375000</td>\n",
       "      <td>9.0</td>\n",
       "      <td>52</td>\n",
       "      <td>24</td>\n",
       "      <td>0.461538</td>\n",
       "      <td>50-69</td>\n",
       "    </tr>\n",
       "  </tbody>\n",
       "</table>\n",
       "</div>"
      ],
      "text/plain": [
       "  age  conv. rate  mean all people people w/o BL soleent  \\\n",
       "0   5    0.300000  12.0         48                    40   \n",
       "1   6    0.310345   9.0         48                    29   \n",
       "2   7    0.446809  21.0         73                    47   \n",
       "3   8    0.280000  14.0         81                    50   \n",
       "4   9    0.272727   9.0         49                    33   \n",
       "5  10    0.375000   9.0         52                    24   \n",
       "\n",
       "   fraction w/o BL soleent agebin  \n",
       "0                 0.833333  18-29  \n",
       "1                 0.604167  30-34  \n",
       "2                 0.643836  35-39  \n",
       "3                 0.617284  40-44  \n",
       "4                 0.673469  45-49  \n",
       "5                 0.461538  50-69  "
      ]
     },
     "execution_count": 171,
     "metadata": {},
     "output_type": "execute_result"
    },
    {
     "data": {
      "image/png": "[encoded data removed]",
      "text/plain": [
       "<Figure size 432x288 with 1 Axes>"
      ]
     },
     "metadata": {},
     "output_type": "display_data"
    }
   ],
   "source": [
    "#creates new data frame for 'conversion rate' analysis by age binning\n",
    "if POSITIVE:\n",
    "    ageGroup6 = pd.DataFrame(columns = ['age', 'conv. rate', 'mean', 'all people', 'people w/o BL soleent', 'fraction w/o BL soleent']) \n",
    "else:\n",
    "    ageGroup6 = pd.DataFrame(columns = ['age', 'conv. rate', 'mean', 'all people', 'people w/ BL soleent', 'fraction w/ BL soleent']) \n",
    "\n",
    "#Conversion rate chart with binning by age only\n",
    "for i in range(5, 11):\n",
    "        ageGroup6 = crTableAge(i, POSITIVE, treatment, ent_edu_conv, ageGroup6)\n",
    "\n",
    "ax = sns.barplot(x=\"agebin\", y=\"conv. rate\", data=ageGroup6)\n",
    "ageGroup6"
   ]
  },
  {
   "cell_type": "code",
   "execution_count": 172,
   "metadata": {},
   "outputs": [],
   "source": [
    "#Copy of ent_edu_age4 for 'conversion rate' analysis, adds edu column. 6, 7, 8, 9, 10, 11, 12, 13.\n",
    "ent_edu_conv = ent_edu_age8.copy()\n",
    "ent_edu_conv['edu'] = ent_edu_conv['edulow'] + ent_edu_conv['eduvoc'] * 2 + ent_edu_conv['eduhigh'] * 3\n",
    "#ent_edu_conv"
   ]
  },
  {
   "cell_type": "code",
   "execution_count": 173,
   "metadata": {},
   "outputs": [
    {
     "data": {
      "text/html": [
       "<div>\n",
       "<style scoped>\n",
       "    .dataframe tbody tr th:only-of-type {\n",
       "        vertical-align: middle;\n",
       "    }\n",
       "\n",
       "    .dataframe tbody tr th {\n",
       "        vertical-align: top;\n",
       "    }\n",
       "\n",
       "    .dataframe thead th {\n",
       "        text-align: right;\n",
       "    }\n",
       "</style>\n",
       "<table border=\"1\" class=\"dataframe\">\n",
       "  <thead>\n",
       "    <tr style=\"text-align: right;\">\n",
       "      <th></th>\n",
       "      <th>age</th>\n",
       "      <th>conv. rate</th>\n",
       "      <th>mean</th>\n",
       "      <th>all people</th>\n",
       "      <th>people w/o BL soleent</th>\n",
       "      <th>fraction w/o BL soleent</th>\n",
       "      <th>agebin</th>\n",
       "    </tr>\n",
       "  </thead>\n",
       "  <tbody>\n",
       "    <tr>\n",
       "      <th>0</th>\n",
       "      <td>6</td>\n",
       "      <td>0.272727</td>\n",
       "      <td>6.0</td>\n",
       "      <td>27</td>\n",
       "      <td>22</td>\n",
       "      <td>0.814815</td>\n",
       "      <td>18-27</td>\n",
       "    </tr>\n",
       "    <tr>\n",
       "      <th>1</th>\n",
       "      <td>7</td>\n",
       "      <td>0.346154</td>\n",
       "      <td>9.0</td>\n",
       "      <td>35</td>\n",
       "      <td>26</td>\n",
       "      <td>0.742857</td>\n",
       "      <td>28-31</td>\n",
       "    </tr>\n",
       "    <tr>\n",
       "      <th>2</th>\n",
       "      <td>8</td>\n",
       "      <td>0.333333</td>\n",
       "      <td>9.0</td>\n",
       "      <td>43</td>\n",
       "      <td>27</td>\n",
       "      <td>0.627907</td>\n",
       "      <td>32-35</td>\n",
       "    </tr>\n",
       "    <tr>\n",
       "      <th>3</th>\n",
       "      <td>9</td>\n",
       "      <td>0.439024</td>\n",
       "      <td>18.0</td>\n",
       "      <td>64</td>\n",
       "      <td>41</td>\n",
       "      <td>0.640625</td>\n",
       "      <td>36-39</td>\n",
       "    </tr>\n",
       "    <tr>\n",
       "      <th>4</th>\n",
       "      <td>10</td>\n",
       "      <td>0.285714</td>\n",
       "      <td>12.0</td>\n",
       "      <td>69</td>\n",
       "      <td>42</td>\n",
       "      <td>0.608696</td>\n",
       "      <td>40-44</td>\n",
       "    </tr>\n",
       "    <tr>\n",
       "      <th>5</th>\n",
       "      <td>11</td>\n",
       "      <td>0.233333</td>\n",
       "      <td>7.0</td>\n",
       "      <td>45</td>\n",
       "      <td>30</td>\n",
       "      <td>0.666667</td>\n",
       "      <td>45-47</td>\n",
       "    </tr>\n",
       "    <tr>\n",
       "      <th>6</th>\n",
       "      <td>12</td>\n",
       "      <td>0.300000</td>\n",
       "      <td>6.0</td>\n",
       "      <td>33</td>\n",
       "      <td>20</td>\n",
       "      <td>0.606061</td>\n",
       "      <td>48-51</td>\n",
       "    </tr>\n",
       "    <tr>\n",
       "      <th>7</th>\n",
       "      <td>13</td>\n",
       "      <td>0.466667</td>\n",
       "      <td>7.0</td>\n",
       "      <td>35</td>\n",
       "      <td>15</td>\n",
       "      <td>0.428571</td>\n",
       "      <td>52-69</td>\n",
       "    </tr>\n",
       "  </tbody>\n",
       "</table>\n",
       "</div>"
      ],
      "text/plain": [
       "  age  conv. rate  mean all people people w/o BL soleent  \\\n",
       "0   6    0.272727   6.0         27                    22   \n",
       "1   7    0.346154   9.0         35                    26   \n",
       "2   8    0.333333   9.0         43                    27   \n",
       "3   9    0.439024  18.0         64                    41   \n",
       "4  10    0.285714  12.0         69                    42   \n",
       "5  11    0.233333   7.0         45                    30   \n",
       "6  12    0.300000   6.0         33                    20   \n",
       "7  13    0.466667   7.0         35                    15   \n",
       "\n",
       "   fraction w/o BL soleent agebin  \n",
       "0                 0.814815  18-27  \n",
       "1                 0.742857  28-31  \n",
       "2                 0.627907  32-35  \n",
       "3                 0.640625  36-39  \n",
       "4                 0.608696  40-44  \n",
       "5                 0.666667  45-47  \n",
       "6                 0.606061  48-51  \n",
       "7                 0.428571  52-69  "
      ]
     },
     "execution_count": 173,
     "metadata": {},
     "output_type": "execute_result"
    },
    {
     "data": {
      "image/png": "[encoded data removed]",
      "text/plain": [
       "<Figure size 432x288 with 1 Axes>"
      ]
     },
     "metadata": {},
     "output_type": "display_data"
    }
   ],
   "source": [
    "#creates new data frame for 'conversion rate' analysis by age binning\n",
    "if POSITIVE:\n",
    "    ageGroup8 = pd.DataFrame(columns = ['age', 'conv. rate', 'mean', 'all people', 'people w/o BL soleent', 'fraction w/o BL soleent']) \n",
    "else:\n",
    "    ageGroup8 = pd.DataFrame(columns = ['age', 'conv. rate', 'mean', 'all people', 'people w/ BL soleent', 'fraction w/ BL soleent']) \n",
    "\n",
    "#Conversion rate chart with binning by age only\n",
    "for i in range(6, 14):\n",
    "        ageGroup8 = crTableAge(i, POSITIVE, treatment, ent_edu_conv, ageGroup8)\n",
    "\n",
    "ax = sns.barplot(x=\"agebin\", y=\"conv. rate\", data=ageGroup8)\n",
    "ageGroup8"
   ]
  },
  {
   "cell_type": "code",
   "execution_count": null,
   "metadata": {},
   "outputs": [],
   "source": []
  }
 ],
 "metadata": {
  "kernelspec": {
   "display_name": "Python 3",
   "language": "python",
   "name": "python3"
  },
  "language_info": {
   "codemirror_mode": {
    "name": "ipython",
    "version": 3
   },
   "file_extension": ".py",
   "mimetype": "text/x-python",
   "name": "python",
   "nbconvert_exporter": "python",
   "pygments_lexer": "ipython3",
   "version": "3.6.5"
  }
 },
 "nbformat": 4,
 "nbformat_minor": 2
}
