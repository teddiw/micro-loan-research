{
 "cells": [
  {
   "cell_type": "code",
   "execution_count": 424,
   "metadata": {},
   "outputs": [
    {
     "name": "stdout",
     "output_type": "stream",
     "text": [
      "Populating the interactive namespace from numpy and matplotlib\n"
     ]
    },
    {
     "name": "stderr",
     "output_type": "stream",
     "text": [
      "/Users/teddiworledge/anaconda3/lib/python3.6/site-packages/IPython/core/magics/pylab.py:160: UserWarning: pylab import has clobbered these variables: ['mean']\n",
      "`%matplotlib` prevents importing * from pylab and numpy\n",
      "  \"\\n`%matplotlib` prevents importing * from pylab and numpy\"\n"
     ]
    }
   ],
   "source": [
    "%pylab inline\n",
    "\n",
    "import pandas as pd\n",
    "import seaborn as sns\n",
    "import matplotlib.pyplot as plt\n",
    "from mpl_toolkits.mplot3d import Axes3D\n",
    "import seaborn as sns\n",
    "\n",
    "from methods import *"
   ]
  },
  {
   "cell_type": "code",
   "execution_count": 425,
   "metadata": {},
   "outputs": [],
   "source": [
    "#Loads files as dataframes\n",
    "data_ent_followup = create_df(\"f_Sections F,G,h - Ent.dta\", \"Analysis files/data/Followup/{0}\")\n",
    "\n",
    "data_edu_baseline = create_df(\"education.dta\", \"Analysis files/data/Baseline/{0}\")\n",
    "\n",
    "data_ent_baseline = create_df(\"Sections F,G,h - Ent.dta\", \"Analysis files/data/Baseline/{0}\")\n",
    "\n",
    "data_age_baseline = create_df(\"personal info.dta\", \"Analysis files/data/Baseline/{0}\")"
   ]
  },
  {
   "cell_type": "code",
   "execution_count": 426,
   "metadata": {},
   "outputs": [
    {
     "name": "stdout",
     "output_type": "stream",
     "text": [
      "Number of households at followup:  961\n",
      "Number of households at adjusted baseline:  961\n",
      "Number of households at followup:  961\n",
      "Number of households at adjusted baseline:  961\n",
      "Number of households at followup:  961\n",
      "Number of households at adjusted baseline:  961\n"
     ]
    }
   ],
   "source": [
    "#Removes attrition from the baseline dataframes\n",
    "updated_edu_baseline = remove_attrition(data_edu_baseline, data_ent_followup)\n",
    "updated_ent_baseline = remove_attrition(data_ent_baseline, data_ent_followup)\n",
    "updated_age_baseline = remove_attrition(data_age_baseline, data_ent_followup)"
   ]
  },
  {
   "cell_type": "code",
   "execution_count": 427,
   "metadata": {},
   "outputs": [],
   "source": [
    "#Creates big array with the desired columns of edu_baseline, ent_baseline, and ent_followup.\n",
    "#Contains the columns specified below.\n",
    "#Corrects NaN values to zero.\n",
    "ent_edu_master = updated_ent_baseline[['treatment_x', 'rescode', 'enterprise', 'soleent']].join(data_ent_followup[['f_enterprise', 'f_soleent']])\n",
    "ent_edu_master = ent_edu_master.join(updated_edu_baseline[[\"edulow\", \"eduvoc\", \"eduhigh\"]])\n",
    "ent_edu_master = ent_edu_master.join(updated_age_baseline[[\"age\"]])\n",
    "ent_edu_master = ent_edu_master.fillna(0)"
   ]
  },
  {
   "cell_type": "code",
   "execution_count": 428,
   "metadata": {},
   "outputs": [
    {
     "name": "stdout",
     "output_type": "stream",
     "text": [
      "0\n",
      "0\n",
      "142\n",
      "323\n",
      "354\n",
      "142\n",
      "0\n",
      "0\n",
      "0\n",
      "0\n"
     ]
    }
   ],
   "source": [
    "#Find number of participants in each age bin\n",
    "ent_edu_master['age'] = ent_edu_master['age'].apply(lambda x: x//10)\n",
    "ent_edu_master.loc[ent_edu_master.age==1, 'age'] = 2\n",
    "ent_edu_master.loc[ent_edu_master.age==6, 'age'] = 5\n",
    "\n",
    "for i in range(10):\n",
    "    print(len(ent_edu_master.loc[ent_edu_master['age'] == i, :]))\n",
    "    \n",
    "ageBins = ['18-29', '30-39', '40-49', '50-69']\n",
    "\n",
    "for i in range(2, 6):\n",
    "    ent_edu_master.loc[ent_edu_master['age']==i, 'agebin'] = ageBins[i-2]"
   ]
  },
  {
   "cell_type": "code",
   "execution_count": 429,
   "metadata": {},
   "outputs": [],
   "source": [
    "#control: treatment_x = 0\n",
    "#individual: treatment_x = 1\n",
    "#group: treatment_x = 2"
   ]
  },
  {
   "cell_type": "code",
   "execution_count": 430,
   "metadata": {},
   "outputs": [],
   "source": [
    "#Copy of ent_edu_master for 'conversion rate' analysis, adds edu column, \n",
    "ent_edu_conv = ent_edu_master.copy()\n",
    "ent_edu_conv['edu'] = ent_edu_conv['edulow'] + ent_edu_conv['eduvoc'] * 2 + ent_edu_conv['eduhigh'] * 3\n",
    "treatment = 1\n",
    "POSITIVE = False\n",
    "#ent_edu_conv"
   ]
  },
  {
   "cell_type": "code",
   "execution_count": 431,
   "metadata": {},
   "outputs": [],
   "source": [
    "#CONTROL: Create control ageGroup and eduGroup to use for subtraction\n",
    "if POSITIVE:\n",
    "    ageGroup4Controlled = pd.DataFrame(columns = ['age', 'agebins', 'conv. rate', 'mean', 'all people', 'people w/o BL soleent', 'fraction w/o BL soleent']) \n",
    "else:\n",
    "    ageGroup4Controlled = pd.DataFrame(columns = ['age', 'agebins', 'conv. rate', 'mean', 'all people', 'people w/ BL soleent', 'fraction w/ BL soleent']) \n",
    "    \n",
    "if POSITIVE:\n",
    "    eduGroupControlled = pd.DataFrame(columns = ['edu', 'conv. rate', 'mean', 'all people', 'people w/o BL soleent', 'fraction w/o BL soleent']) \n",
    "else:\n",
    "    eduGroupControlled = pd.DataFrame(columns = ['edu', 'conv. rate', 'mean', 'all people', 'people w/ BL soleent', 'fraction w/ BL soleent']) "
   ]
  },
  {
   "cell_type": "code",
   "execution_count": 432,
   "metadata": {},
   "outputs": [
    {
     "name": "stdout",
     "output_type": "stream",
     "text": [
      "18-29\n",
      "30-39\n",
      "40-49\n",
      "50-69\n"
     ]
    },
    {
     "data": {
      "text/html": [
       "<div>\n",
       "<style scoped>\n",
       "    .dataframe tbody tr th:only-of-type {\n",
       "        vertical-align: middle;\n",
       "    }\n",
       "\n",
       "    .dataframe tbody tr th {\n",
       "        vertical-align: top;\n",
       "    }\n",
       "\n",
       "    .dataframe thead th {\n",
       "        text-align: right;\n",
       "    }\n",
       "</style>\n",
       "<table border=\"1\" class=\"dataframe\">\n",
       "  <thead>\n",
       "    <tr style=\"text-align: right;\">\n",
       "      <th></th>\n",
       "      <th>age</th>\n",
       "      <th>agebins</th>\n",
       "      <th>conv. rate</th>\n",
       "      <th>mean</th>\n",
       "      <th>all people</th>\n",
       "      <th>people w/o BL soleent</th>\n",
       "      <th>fraction w/o BL soleent</th>\n",
       "      <th>agebin</th>\n",
       "    </tr>\n",
       "  </thead>\n",
       "  <tbody>\n",
       "    <tr>\n",
       "      <th>0</th>\n",
       "      <td>2</td>\n",
       "      <td>NaN</td>\n",
       "      <td>0.200000</td>\n",
       "      <td>5.0</td>\n",
       "      <td>34</td>\n",
       "      <td>25</td>\n",
       "      <td>0.735294</td>\n",
       "      <td>18-29</td>\n",
       "    </tr>\n",
       "    <tr>\n",
       "      <th>1</th>\n",
       "      <td>3</td>\n",
       "      <td>NaN</td>\n",
       "      <td>0.410714</td>\n",
       "      <td>23.0</td>\n",
       "      <td>89</td>\n",
       "      <td>56</td>\n",
       "      <td>0.629213</td>\n",
       "      <td>30-39</td>\n",
       "    </tr>\n",
       "    <tr>\n",
       "      <th>2</th>\n",
       "      <td>4</td>\n",
       "      <td>NaN</td>\n",
       "      <td>0.245283</td>\n",
       "      <td>13.0</td>\n",
       "      <td>95</td>\n",
       "      <td>53</td>\n",
       "      <td>0.557895</td>\n",
       "      <td>40-49</td>\n",
       "    </tr>\n",
       "    <tr>\n",
       "      <th>3</th>\n",
       "      <td>5</td>\n",
       "      <td>NaN</td>\n",
       "      <td>0.086957</td>\n",
       "      <td>2.0</td>\n",
       "      <td>42</td>\n",
       "      <td>23</td>\n",
       "      <td>0.547619</td>\n",
       "      <td>50-69</td>\n",
       "    </tr>\n",
       "  </tbody>\n",
       "</table>\n",
       "</div>"
      ],
      "text/plain": [
       "  age  agebins  conv. rate  mean all people people w/o BL soleent  \\\n",
       "0   2      NaN    0.200000   5.0         34                    25   \n",
       "1   3      NaN    0.410714  23.0         89                    56   \n",
       "2   4      NaN    0.245283  13.0         95                    53   \n",
       "3   5      NaN    0.086957   2.0         42                    23   \n",
       "\n",
       "   fraction w/o BL soleent agebin  \n",
       "0                 0.735294  18-29  \n",
       "1                 0.629213  30-39  \n",
       "2                 0.557895  40-49  \n",
       "3                 0.547619  50-69  "
      ]
     },
     "execution_count": 432,
     "metadata": {},
     "output_type": "execute_result"
    }
   ],
   "source": [
    "#CONTROL:Conversion rate chart with binning by age only \n",
    "for i in range(2, 6):\n",
    "        ageGroup4Controlled = crTableAge(i, POSITIVE, 0, ent_edu_conv, ageGroup4Controlled)\n",
    "cr = conversionRate(POSITIVE, ent_edu_conv[(ent_edu_conv.treatment_x == 0)])\n",
    "ageGroup4Controlled"
   ]
  },
  {
   "cell_type": "code",
   "execution_count": 433,
   "metadata": {},
   "outputs": [
    {
     "data": {
      "text/html": [
       "<div>\n",
       "<style scoped>\n",
       "    .dataframe tbody tr th:only-of-type {\n",
       "        vertical-align: middle;\n",
       "    }\n",
       "\n",
       "    .dataframe tbody tr th {\n",
       "        vertical-align: top;\n",
       "    }\n",
       "\n",
       "    .dataframe thead th {\n",
       "        text-align: right;\n",
       "    }\n",
       "</style>\n",
       "<table border=\"1\" class=\"dataframe\">\n",
       "  <thead>\n",
       "    <tr style=\"text-align: right;\">\n",
       "      <th></th>\n",
       "      <th>edu</th>\n",
       "      <th>conv. rate</th>\n",
       "      <th>mean</th>\n",
       "      <th>all people</th>\n",
       "      <th>people w/o BL soleent</th>\n",
       "      <th>fraction w/o BL soleent</th>\n",
       "    </tr>\n",
       "  </thead>\n",
       "  <tbody>\n",
       "    <tr>\n",
       "      <th>0</th>\n",
       "      <td>1.0</td>\n",
       "      <td>0.269231</td>\n",
       "      <td>7.0</td>\n",
       "      <td>39.0</td>\n",
       "      <td>26.0</td>\n",
       "      <td>0.666667</td>\n",
       "    </tr>\n",
       "    <tr>\n",
       "      <th>1</th>\n",
       "      <td>2.0</td>\n",
       "      <td>0.216216</td>\n",
       "      <td>8.0</td>\n",
       "      <td>56.0</td>\n",
       "      <td>37.0</td>\n",
       "      <td>0.660714</td>\n",
       "    </tr>\n",
       "    <tr>\n",
       "      <th>2</th>\n",
       "      <td>3.0</td>\n",
       "      <td>0.297872</td>\n",
       "      <td>28.0</td>\n",
       "      <td>165.0</td>\n",
       "      <td>94.0</td>\n",
       "      <td>0.569697</td>\n",
       "    </tr>\n",
       "  </tbody>\n",
       "</table>\n",
       "</div>"
      ],
      "text/plain": [
       "   edu  conv. rate  mean  all people  people w/o BL soleent  \\\n",
       "0  1.0    0.269231   7.0        39.0                   26.0   \n",
       "1  2.0    0.216216   8.0        56.0                   37.0   \n",
       "2  3.0    0.297872  28.0       165.0                   94.0   \n",
       "\n",
       "   fraction w/o BL soleent  \n",
       "0                 0.666667  \n",
       "1                 0.660714  \n",
       "2                 0.569697  "
      ]
     },
     "execution_count": 433,
     "metadata": {},
     "output_type": "execute_result"
    }
   ],
   "source": [
    "#CONTROL: Conversion rate chart with binning by edu only \n",
    "# i, POSITIVE, treatment, ent_edu_conv, ageGroup4\n",
    "for i in range(1, 4):\n",
    "        eduGroupControlled = crTableEdu(i, POSITIVE, 0, ent_edu_conv, eduGroupControlled)\n",
    "cr = conversionRate(POSITIVE, ent_edu_conv[(ent_edu_conv.treatment_x == 0)])\n",
    "eduGroupControlled"
   ]
  },
  {
   "cell_type": "code",
   "execution_count": 434,
   "metadata": {},
   "outputs": [],
   "source": [
    "#creates new data frame for 'conversion rate' analysis by separate age and edu binning\n",
    "if POSITIVE:\n",
    "    ageGroup4 = pd.DataFrame(columns = ['age', 'agebins', 'conv. rate', 'mean', 'all people', 'people w/o BL soleent', 'fraction w/o BL soleent']) \n",
    "else:\n",
    "    ageGroup4 = pd.DataFrame(columns = ['age', 'agebins', 'conv. rate', 'mean', 'all people', 'people w/ BL soleent', 'fraction w/ BL soleent']) \n",
    "    \n",
    "if POSITIVE:\n",
    "    eduGroup = pd.DataFrame(columns = ['edu', 'conv. rate', 'mean', 'all people', 'people w/o BL soleent', 'fraction w/o BL soleent']) \n",
    "else:\n",
    "    eduGroup = pd.DataFrame(columns = ['edu', 'conv. rate', 'mean', 'all people', 'people w/ BL soleent', 'fraction w/ BL soleent']) "
   ]
  },
  {
   "cell_type": "code",
   "execution_count": 435,
   "metadata": {},
   "outputs": [
    {
     "name": "stdout",
     "output_type": "stream",
     "text": [
      "18-29\n",
      "30-39\n",
      "40-49\n",
      "50-69\n",
      "Conversion rate for age group 10 (aggregate) is: 0.2112676056338028\n"
     ]
    },
    {
     "data": {
      "text/html": [
       "<div>\n",
       "<style scoped>\n",
       "    .dataframe tbody tr th:only-of-type {\n",
       "        vertical-align: middle;\n",
       "    }\n",
       "\n",
       "    .dataframe tbody tr th {\n",
       "        vertical-align: top;\n",
       "    }\n",
       "\n",
       "    .dataframe thead th {\n",
       "        text-align: right;\n",
       "    }\n",
       "</style>\n",
       "<table border=\"1\" class=\"dataframe\">\n",
       "  <thead>\n",
       "    <tr style=\"text-align: right;\">\n",
       "      <th></th>\n",
       "      <th>age</th>\n",
       "      <th>agebins</th>\n",
       "      <th>conv. rate</th>\n",
       "      <th>mean</th>\n",
       "      <th>all people</th>\n",
       "      <th>people w/o BL soleent</th>\n",
       "      <th>fraction w/o BL soleent</th>\n",
       "      <th>agebin</th>\n",
       "    </tr>\n",
       "  </thead>\n",
       "  <tbody>\n",
       "    <tr>\n",
       "      <th>0</th>\n",
       "      <td>2</td>\n",
       "      <td>NaN</td>\n",
       "      <td>0.189189</td>\n",
       "      <td>7.0</td>\n",
       "      <td>60</td>\n",
       "      <td>37</td>\n",
       "      <td>0.616667</td>\n",
       "      <td>18-29</td>\n",
       "    </tr>\n",
       "    <tr>\n",
       "      <th>1</th>\n",
       "      <td>3</td>\n",
       "      <td>NaN</td>\n",
       "      <td>0.180556</td>\n",
       "      <td>13.0</td>\n",
       "      <td>113</td>\n",
       "      <td>72</td>\n",
       "      <td>0.637168</td>\n",
       "      <td>30-39</td>\n",
       "    </tr>\n",
       "    <tr>\n",
       "      <th>2</th>\n",
       "      <td>4</td>\n",
       "      <td>NaN</td>\n",
       "      <td>0.223684</td>\n",
       "      <td>17.0</td>\n",
       "      <td>129</td>\n",
       "      <td>76</td>\n",
       "      <td>0.589147</td>\n",
       "      <td>40-49</td>\n",
       "    </tr>\n",
       "    <tr>\n",
       "      <th>3</th>\n",
       "      <td>5</td>\n",
       "      <td>NaN</td>\n",
       "      <td>0.285714</td>\n",
       "      <td>8.0</td>\n",
       "      <td>48</td>\n",
       "      <td>28</td>\n",
       "      <td>0.583333</td>\n",
       "      <td>50-69</td>\n",
       "    </tr>\n",
       "  </tbody>\n",
       "</table>\n",
       "</div>"
      ],
      "text/plain": [
       "  age  agebins  conv. rate  mean all people people w/o BL soleent  \\\n",
       "0   2      NaN    0.189189   7.0         60                    37   \n",
       "1   3      NaN    0.180556  13.0        113                    72   \n",
       "2   4      NaN    0.223684  17.0        129                    76   \n",
       "3   5      NaN    0.285714   8.0         48                    28   \n",
       "\n",
       "   fraction w/o BL soleent agebin  \n",
       "0                 0.616667  18-29  \n",
       "1                 0.637168  30-39  \n",
       "2                 0.589147  40-49  \n",
       "3                 0.583333  50-69  "
      ]
     },
     "execution_count": 435,
     "metadata": {},
     "output_type": "execute_result"
    }
   ],
   "source": [
    "#Conversion rate chart with binning by age only \n",
    "for i in range(2, 6):\n",
    "        ageGroup4 = crTableAge(i, POSITIVE, treatment, ent_edu_conv, ageGroup4)\n",
    "cr = conversionRate(POSITIVE, ent_edu_conv[(ent_edu_conv.treatment_x == treatment)])\n",
    "print(\"Conversion rate for age group 10 (aggregate) is:\", cr)\n",
    "ageGroup4"
   ]
  },
  {
   "cell_type": "code",
   "execution_count": 436,
   "metadata": {},
   "outputs": [
    {
     "data": {
      "image/png": "[encoded data removed]",
      "text/plain": [
       "<Figure size 432x288 with 1 Axes>"
      ]
     },
     "metadata": {},
     "output_type": "display_data"
    }
   ],
   "source": [
    "#age graph (not controlled)\n",
    "ax = sns.barplot(x=\"agebin\", y=\"conv. rate\", data=ageGroup4)"
   ]
  },
  {
   "cell_type": "code",
   "execution_count": 437,
   "metadata": {},
   "outputs": [
    {
     "name": "stdout",
     "output_type": "stream",
     "text": [
      "Conversion rate for edu level 4 (aggregate) is: 0.2112676056338028\n"
     ]
    },
    {
     "data": {
      "text/html": [
       "<div>\n",
       "<style scoped>\n",
       "    .dataframe tbody tr th:only-of-type {\n",
       "        vertical-align: middle;\n",
       "    }\n",
       "\n",
       "    .dataframe tbody tr th {\n",
       "        vertical-align: top;\n",
       "    }\n",
       "\n",
       "    .dataframe thead th {\n",
       "        text-align: right;\n",
       "    }\n",
       "</style>\n",
       "<table border=\"1\" class=\"dataframe\">\n",
       "  <thead>\n",
       "    <tr style=\"text-align: right;\">\n",
       "      <th></th>\n",
       "      <th>edu</th>\n",
       "      <th>conv. rate</th>\n",
       "      <th>mean</th>\n",
       "      <th>all people</th>\n",
       "      <th>people w/o BL soleent</th>\n",
       "      <th>fraction w/o BL soleent</th>\n",
       "    </tr>\n",
       "  </thead>\n",
       "  <tbody>\n",
       "    <tr>\n",
       "      <th>0</th>\n",
       "      <td>1.0</td>\n",
       "      <td>0.172414</td>\n",
       "      <td>5.0</td>\n",
       "      <td>48.0</td>\n",
       "      <td>29.0</td>\n",
       "      <td>0.604167</td>\n",
       "    </tr>\n",
       "    <tr>\n",
       "      <th>1</th>\n",
       "      <td>2.0</td>\n",
       "      <td>0.256410</td>\n",
       "      <td>10.0</td>\n",
       "      <td>65.0</td>\n",
       "      <td>39.0</td>\n",
       "      <td>0.600000</td>\n",
       "    </tr>\n",
       "    <tr>\n",
       "      <th>2</th>\n",
       "      <td>3.0</td>\n",
       "      <td>0.206897</td>\n",
       "      <td>30.0</td>\n",
       "      <td>237.0</td>\n",
       "      <td>145.0</td>\n",
       "      <td>0.611814</td>\n",
       "    </tr>\n",
       "  </tbody>\n",
       "</table>\n",
       "</div>"
      ],
      "text/plain": [
       "   edu  conv. rate  mean  all people  people w/o BL soleent  \\\n",
       "0  1.0    0.172414   5.0        48.0                   29.0   \n",
       "1  2.0    0.256410  10.0        65.0                   39.0   \n",
       "2  3.0    0.206897  30.0       237.0                  145.0   \n",
       "\n",
       "   fraction w/o BL soleent  \n",
       "0                 0.604167  \n",
       "1                 0.600000  \n",
       "2                 0.611814  "
      ]
     },
     "execution_count": 437,
     "metadata": {},
     "output_type": "execute_result"
    }
   ],
   "source": [
    "#Conversion rate chart with binning by edu only \n",
    "# i, POSITIVE, treatment, ent_edu_conv, ageGroup4\n",
    "for i in range(1, 4):\n",
    "        eduGroup = crTableEdu(i, POSITIVE, treatment, ent_edu_conv, eduGroup)\n",
    "cr = conversionRate(POSITIVE, ent_edu_conv[(ent_edu_conv.treatment_x == treatment)])\n",
    "print(\"Conversion rate for edu level 4 (aggregate) is:\", cr)\n",
    "eduGroup"
   ]
  },
  {
   "cell_type": "code",
   "execution_count": 438,
   "metadata": {},
   "outputs": [
    {
     "data": {
      "image/png": "[encoded data removed]",
      "text/plain": [
       "<Figure size 432x288 with 1 Axes>"
      ]
     },
     "metadata": {},
     "output_type": "display_data"
    }
   ],
   "source": [
    "#edu graph (not controlled)\n",
    "ax = sns.barplot(x=\"edu\", y=\"conv. rate\", data=eduGroup)"
   ]
  },
  {
   "cell_type": "code",
   "execution_count": 439,
   "metadata": {},
   "outputs": [
    {
     "data": {
      "text/html": [
       "<div>\n",
       "<style scoped>\n",
       "    .dataframe tbody tr th:only-of-type {\n",
       "        vertical-align: middle;\n",
       "    }\n",
       "\n",
       "    .dataframe tbody tr th {\n",
       "        vertical-align: top;\n",
       "    }\n",
       "\n",
       "    .dataframe thead th {\n",
       "        text-align: right;\n",
       "    }\n",
       "</style>\n",
       "<table border=\"1\" class=\"dataframe\">\n",
       "  <thead>\n",
       "    <tr style=\"text-align: right;\">\n",
       "      <th></th>\n",
       "      <th>age</th>\n",
       "      <th>agebins</th>\n",
       "      <th>conv. rate</th>\n",
       "      <th>mean</th>\n",
       "      <th>all people</th>\n",
       "      <th>people w/o BL soleent</th>\n",
       "      <th>fraction w/o BL soleent</th>\n",
       "      <th>agebin</th>\n",
       "    </tr>\n",
       "  </thead>\n",
       "  <tbody>\n",
       "    <tr>\n",
       "      <th>0</th>\n",
       "      <td>2</td>\n",
       "      <td>NaN</td>\n",
       "      <td>-0.010811</td>\n",
       "      <td>5.0</td>\n",
       "      <td>34</td>\n",
       "      <td>25</td>\n",
       "      <td>0.735294</td>\n",
       "      <td>18-29</td>\n",
       "    </tr>\n",
       "    <tr>\n",
       "      <th>1</th>\n",
       "      <td>3</td>\n",
       "      <td>NaN</td>\n",
       "      <td>-0.230159</td>\n",
       "      <td>23.0</td>\n",
       "      <td>89</td>\n",
       "      <td>56</td>\n",
       "      <td>0.629213</td>\n",
       "      <td>30-39</td>\n",
       "    </tr>\n",
       "    <tr>\n",
       "      <th>2</th>\n",
       "      <td>4</td>\n",
       "      <td>NaN</td>\n",
       "      <td>-0.021599</td>\n",
       "      <td>13.0</td>\n",
       "      <td>95</td>\n",
       "      <td>53</td>\n",
       "      <td>0.557895</td>\n",
       "      <td>40-49</td>\n",
       "    </tr>\n",
       "    <tr>\n",
       "      <th>3</th>\n",
       "      <td>5</td>\n",
       "      <td>NaN</td>\n",
       "      <td>0.198758</td>\n",
       "      <td>2.0</td>\n",
       "      <td>42</td>\n",
       "      <td>23</td>\n",
       "      <td>0.547619</td>\n",
       "      <td>50-69</td>\n",
       "    </tr>\n",
       "  </tbody>\n",
       "</table>\n",
       "</div>"
      ],
      "text/plain": [
       "  age  agebins  conv. rate  mean all people people w/o BL soleent  \\\n",
       "0   2      NaN   -0.010811   5.0         34                    25   \n",
       "1   3      NaN   -0.230159  23.0         89                    56   \n",
       "2   4      NaN   -0.021599  13.0         95                    53   \n",
       "3   5      NaN    0.198758   2.0         42                    23   \n",
       "\n",
       "   fraction w/o BL soleent agebin  \n",
       "0                 0.735294  18-29  \n",
       "1                 0.629213  30-39  \n",
       "2                 0.557895  40-49  \n",
       "3                 0.547619  50-69  "
      ]
     },
     "execution_count": 439,
     "metadata": {},
     "output_type": "execute_result"
    },
    {
     "data": {
      "image/png": "[encoded data removed]",
      "text/plain": [
       "<Figure size 432x288 with 1 Axes>"
      ]
     },
     "metadata": {},
     "output_type": "display_data"
    }
   ],
   "source": [
    "#CONTROLLED: age graph\n",
    "ageGroup4Controlled['conv. rate'] = ageGroup4['conv. rate'] - ageGroup4Controlled['conv. rate']\n",
    "ax = sns.barplot(x=\"agebin\", y=\"conv. rate\", data=ageGroup4Controlled)\n",
    "ageGroup4Controlled"
   ]
  },
  {
   "cell_type": "code",
   "execution_count": 440,
   "metadata": {},
   "outputs": [
    {
     "data": {
      "text/html": [
       "<div>\n",
       "<style scoped>\n",
       "    .dataframe tbody tr th:only-of-type {\n",
       "        vertical-align: middle;\n",
       "    }\n",
       "\n",
       "    .dataframe tbody tr th {\n",
       "        vertical-align: top;\n",
       "    }\n",
       "\n",
       "    .dataframe thead th {\n",
       "        text-align: right;\n",
       "    }\n",
       "</style>\n",
       "<table border=\"1\" class=\"dataframe\">\n",
       "  <thead>\n",
       "    <tr style=\"text-align: right;\">\n",
       "      <th></th>\n",
       "      <th>edu</th>\n",
       "      <th>conv. rate</th>\n",
       "      <th>mean</th>\n",
       "      <th>all people</th>\n",
       "      <th>people w/o BL soleent</th>\n",
       "      <th>fraction w/o BL soleent</th>\n",
       "    </tr>\n",
       "  </thead>\n",
       "  <tbody>\n",
       "    <tr>\n",
       "      <th>0</th>\n",
       "      <td>1.0</td>\n",
       "      <td>-0.096817</td>\n",
       "      <td>7.0</td>\n",
       "      <td>39.0</td>\n",
       "      <td>26.0</td>\n",
       "      <td>0.666667</td>\n",
       "    </tr>\n",
       "    <tr>\n",
       "      <th>1</th>\n",
       "      <td>2.0</td>\n",
       "      <td>0.040194</td>\n",
       "      <td>8.0</td>\n",
       "      <td>56.0</td>\n",
       "      <td>37.0</td>\n",
       "      <td>0.660714</td>\n",
       "    </tr>\n",
       "    <tr>\n",
       "      <th>2</th>\n",
       "      <td>3.0</td>\n",
       "      <td>-0.090976</td>\n",
       "      <td>28.0</td>\n",
       "      <td>165.0</td>\n",
       "      <td>94.0</td>\n",
       "      <td>0.569697</td>\n",
       "    </tr>\n",
       "  </tbody>\n",
       "</table>\n",
       "</div>"
      ],
      "text/plain": [
       "   edu  conv. rate  mean  all people  people w/o BL soleent  \\\n",
       "0  1.0   -0.096817   7.0        39.0                   26.0   \n",
       "1  2.0    0.040194   8.0        56.0                   37.0   \n",
       "2  3.0   -0.090976  28.0       165.0                   94.0   \n",
       "\n",
       "   fraction w/o BL soleent  \n",
       "0                 0.666667  \n",
       "1                 0.660714  \n",
       "2                 0.569697  "
      ]
     },
     "execution_count": 440,
     "metadata": {},
     "output_type": "execute_result"
    },
    {
     "data": {
      "image/png": "[encoded data removed]",
      "text/plain": [
       "<Figure size 432x288 with 1 Axes>"
      ]
     },
     "metadata": {},
     "output_type": "display_data"
    }
   ],
   "source": [
    "#CONTROLLED: edu graph\n",
    "eduGroupControlled['conv. rate'] = eduGroup['conv. rate'] - eduGroupControlled['conv. rate']\n",
    "ax = sns.barplot(x=\"edu\", y=\"conv. rate\", data=eduGroupControlled)\n",
    "eduGroupControlled"
   ]
  },
  {
   "cell_type": "code",
   "execution_count": 441,
   "metadata": {},
   "outputs": [
    {
     "data": {
      "text/html": [
       "<div>\n",
       "<style scoped>\n",
       "    .dataframe tbody tr th:only-of-type {\n",
       "        vertical-align: middle;\n",
       "    }\n",
       "\n",
       "    .dataframe tbody tr th {\n",
       "        vertical-align: top;\n",
       "    }\n",
       "\n",
       "    .dataframe thead th {\n",
       "        text-align: right;\n",
       "    }\n",
       "</style>\n",
       "<table border=\"1\" class=\"dataframe\">\n",
       "  <thead>\n",
       "    <tr style=\"text-align: right;\">\n",
       "      <th></th>\n",
       "      <th>edu</th>\n",
       "      <th>agebin</th>\n",
       "      <th>conv. rate</th>\n",
       "      <th>mean</th>\n",
       "      <th>all people</th>\n",
       "      <th>people w/o BL soleent</th>\n",
       "      <th>fraction w/o BL soleent</th>\n",
       "    </tr>\n",
       "  </thead>\n",
       "  <tbody>\n",
       "    <tr>\n",
       "      <th>0</th>\n",
       "      <td>1</td>\n",
       "      <td>18-29</td>\n",
       "      <td>0.111111</td>\n",
       "      <td>1.0</td>\n",
       "      <td>17</td>\n",
       "      <td>9</td>\n",
       "      <td>0.529412</td>\n",
       "    </tr>\n",
       "    <tr>\n",
       "      <th>1</th>\n",
       "      <td>2</td>\n",
       "      <td>18-29</td>\n",
       "      <td>0.000000</td>\n",
       "      <td>0.0</td>\n",
       "      <td>2</td>\n",
       "      <td>1</td>\n",
       "      <td>0.500000</td>\n",
       "    </tr>\n",
       "    <tr>\n",
       "      <th>2</th>\n",
       "      <td>3</td>\n",
       "      <td>18-29</td>\n",
       "      <td>0.222222</td>\n",
       "      <td>6.0</td>\n",
       "      <td>41</td>\n",
       "      <td>27</td>\n",
       "      <td>0.658537</td>\n",
       "    </tr>\n",
       "    <tr>\n",
       "      <th>3</th>\n",
       "      <td>1</td>\n",
       "      <td>30-39</td>\n",
       "      <td>0.333333</td>\n",
       "      <td>1.0</td>\n",
       "      <td>5</td>\n",
       "      <td>3</td>\n",
       "      <td>0.600000</td>\n",
       "    </tr>\n",
       "    <tr>\n",
       "      <th>4</th>\n",
       "      <td>2</td>\n",
       "      <td>30-39</td>\n",
       "      <td>0.125000</td>\n",
       "      <td>2.0</td>\n",
       "      <td>23</td>\n",
       "      <td>16</td>\n",
       "      <td>0.695652</td>\n",
       "    </tr>\n",
       "    <tr>\n",
       "      <th>5</th>\n",
       "      <td>3</td>\n",
       "      <td>30-39</td>\n",
       "      <td>0.188679</td>\n",
       "      <td>10.0</td>\n",
       "      <td>85</td>\n",
       "      <td>53</td>\n",
       "      <td>0.623529</td>\n",
       "    </tr>\n",
       "    <tr>\n",
       "      <th>6</th>\n",
       "      <td>1</td>\n",
       "      <td>40-49</td>\n",
       "      <td>0.166667</td>\n",
       "      <td>1.0</td>\n",
       "      <td>13</td>\n",
       "      <td>6</td>\n",
       "      <td>0.461538</td>\n",
       "    </tr>\n",
       "    <tr>\n",
       "      <th>7</th>\n",
       "      <td>2</td>\n",
       "      <td>40-49</td>\n",
       "      <td>0.368421</td>\n",
       "      <td>7.0</td>\n",
       "      <td>30</td>\n",
       "      <td>19</td>\n",
       "      <td>0.633333</td>\n",
       "    </tr>\n",
       "    <tr>\n",
       "      <th>8</th>\n",
       "      <td>3</td>\n",
       "      <td>40-49</td>\n",
       "      <td>0.176471</td>\n",
       "      <td>9.0</td>\n",
       "      <td>86</td>\n",
       "      <td>51</td>\n",
       "      <td>0.593023</td>\n",
       "    </tr>\n",
       "    <tr>\n",
       "      <th>9</th>\n",
       "      <td>1</td>\n",
       "      <td>50-69</td>\n",
       "      <td>0.181818</td>\n",
       "      <td>2.0</td>\n",
       "      <td>13</td>\n",
       "      <td>11</td>\n",
       "      <td>0.846154</td>\n",
       "    </tr>\n",
       "    <tr>\n",
       "      <th>10</th>\n",
       "      <td>2</td>\n",
       "      <td>50-69</td>\n",
       "      <td>0.333333</td>\n",
       "      <td>1.0</td>\n",
       "      <td>10</td>\n",
       "      <td>3</td>\n",
       "      <td>0.300000</td>\n",
       "    </tr>\n",
       "    <tr>\n",
       "      <th>11</th>\n",
       "      <td>3</td>\n",
       "      <td>50-69</td>\n",
       "      <td>0.357143</td>\n",
       "      <td>5.0</td>\n",
       "      <td>25</td>\n",
       "      <td>14</td>\n",
       "      <td>0.560000</td>\n",
       "    </tr>\n",
       "  </tbody>\n",
       "</table>\n",
       "</div>"
      ],
      "text/plain": [
       "   edu agebin  conv. rate  mean all people people w/o BL soleent  \\\n",
       "0    1  18-29    0.111111   1.0         17                     9   \n",
       "1    2  18-29    0.000000   0.0          2                     1   \n",
       "2    3  18-29    0.222222   6.0         41                    27   \n",
       "3    1  30-39    0.333333   1.0          5                     3   \n",
       "4    2  30-39    0.125000   2.0         23                    16   \n",
       "5    3  30-39    0.188679  10.0         85                    53   \n",
       "6    1  40-49    0.166667   1.0         13                     6   \n",
       "7    2  40-49    0.368421   7.0         30                    19   \n",
       "8    3  40-49    0.176471   9.0         86                    51   \n",
       "9    1  50-69    0.181818   2.0         13                    11   \n",
       "10   2  50-69    0.333333   1.0         10                     3   \n",
       "11   3  50-69    0.357143   5.0         25                    14   \n",
       "\n",
       "    fraction w/o BL soleent  \n",
       "0                  0.529412  \n",
       "1                  0.500000  \n",
       "2                  0.658537  \n",
       "3                  0.600000  \n",
       "4                  0.695652  \n",
       "5                  0.623529  \n",
       "6                  0.461538  \n",
       "7                  0.633333  \n",
       "8                  0.593023  \n",
       "9                  0.846154  \n",
       "10                 0.300000  \n",
       "11                 0.560000  "
      ]
     },
     "execution_count": 441,
     "metadata": {},
     "output_type": "execute_result"
    }
   ],
   "source": [
    "#Conversion rate chart with binning by age AND edu\n",
    "if POSITIVE:\n",
    "    eduANDageGroup = pd.DataFrame(columns = ['edu', 'agebin', 'conv. rate', 'mean', 'all people', 'people w/o BL soleent', 'fraction w/o BL soleent']) \n",
    "else:\n",
    "    eduANDageGroup = pd.DataFrame(columns = ['edu', 'agebin', 'conv. rate', 'mean', 'all people', 'people w/ BL soleent', 'fraction w/ BL soleent']) \n",
    "\n",
    "for i in range(2, 6):\n",
    "    for j in range(1, 4):\n",
    "        ap = len(ent_edu_conv[(ent_edu_conv.treatment_x == treatment)&(ent_edu_conv.age == i) & (ent_edu_conv.edu == j)])\n",
    "        agebin = ent_edu_conv[(ent_edu_conv['age'] == i)].iloc[0]['agebin']\n",
    "        if ap != 0:\n",
    "            cr = conversionRate(POSITIVE, ent_edu_conv[(ent_edu_conv.treatment_x == treatment)&(ent_edu_conv.age == i) & (ent_edu_conv.edu == j)])\n",
    "            if POSITIVE: #set baseline sample size to be number of people without soleent at baseline\n",
    "                blSS = len(ent_edu_conv[(ent_edu_conv.treatment_x == treatment)&(ent_edu_conv.age == i) & (ent_edu_conv.edu == j) & (ent_edu_conv.soleent == 0)])\n",
    "                pmf = binRanVarPMF(blSS, cr)\n",
    "                eduANDageGroup = eduANDageGroup.append({'edu': j, 'agebin': agebin, 'conv. rate': cr, 'mean' : mean(pmf, blSS), 'all people' : ap, 'people w/o BL soleent':blSS, 'fraction w/o BL soleent' : blSS/ap}, ignore_index=True)\n",
    "            else: #set baseline sample size to be number of people with soleent at baseline\n",
    "                blSS = len(ent_edu_conv[(ent_edu_conv.treatment_x == treatment)&(ent_edu_conv.age == i) & (ent_edu_conv.edu == j) & (ent_edu_conv.soleent == 1)])\n",
    "                pmf = binRanVarPMF(blSS, cr)\n",
    "                eduANDageGroup = eduANDageGroup.append({'edu': j, 'agebin': agebin, 'conv. rate': cr, 'mean' : mean(pmf, blSS), 'all people' : ap, 'people w/ BL soleent':blSS, 'fraction w/ BL soleent' : blSS/ap}, ignore_index=True)\n",
    "        else:\n",
    "            eduANDageGroup = eduANDageGroup.append({'edu': j, 'agebin': agebin, 'conv. rate': 0, 'mean' : 0, 'all people' : 0, 'people w/o BL soleent':0, 'fraction w/o BL soleent' : 0}, ignore_index=True)\n",
    "\n",
    "eduANDageGroup"
   ]
  },
  {
   "cell_type": "code",
   "execution_count": 442,
   "metadata": {},
   "outputs": [
    {
     "data": {
      "image/png": "[encoded data removed]",
      "text/plain": [
       "<Figure size 432x288 with 2 Axes>"
      ]
     },
     "metadata": {},
     "output_type": "display_data"
    }
   ],
   "source": [
    "eduANDageGroupGraphing = eduANDageGroup.pivot(\"edu\", \"agebin\", \"conv. rate\")\n",
    "ax = sns.heatmap(eduANDageGroupGraphing, annot=True)"
   ]
  },
  {
   "cell_type": "code",
   "execution_count": null,
   "metadata": {},
   "outputs": [],
   "source": []
  },
  {
   "cell_type": "code",
   "execution_count": null,
   "metadata": {},
   "outputs": [],
   "source": []
  },
  {
   "cell_type": "raw",
   "metadata": {},
   "source": [
    "g"
   ]
  }
 ],
 "metadata": {
  "kernelspec": {
   "display_name": "Python 3",
   "language": "python",
   "name": "python3"
  },
  "language_info": {
   "codemirror_mode": {
    "name": "ipython",
    "version": 3
   },
   "file_extension": ".py",
   "mimetype": "text/x-python",
   "name": "python",
   "nbconvert_exporter": "python",
   "pygments_lexer": "ipython3",
   "version": "3.6.5"
  }
 },
 "nbformat": 4,
 "nbformat_minor": 2
}
