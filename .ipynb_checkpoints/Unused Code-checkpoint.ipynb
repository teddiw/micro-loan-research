{
 "cells": [
  {
   "cell_type": "code",
   "execution_count": null,
   "metadata": {},
   "outputs": [],
   "source": [
    "# calculates percentage of control households with joint enterprise at baseline\n",
    "def controlHH():\n",
    "    s = 0\n",
    "    for i in ent_edu_master.index:\n",
    "        if ent_edu_master.at[i, \"treatment\"] == 0:\n",
    "            s = s + 1\n",
    "    return s\n",
    "\n",
    "def cbEntHH():\n",
    "    s = 0\n",
    "    for i in ent_edu_master.index:\n",
    "        if ent_edu_master.at[i, \"treatment\"] == 0 and ent_edu_master.at[i, \"enterprise\"] > 0:\n",
    "            s = s + 1\n",
    "    return s\n",
    "\n",
    "\n",
    "def cbJointEntHH():\n",
    "    s = 0\n",
    "    for i in ent_edu_master.index:\n",
    "        if ent_edu_master.at[i, \"treatment\"] == 0 and ent_edu_master.at[i, \"jointent\"] > 0:\n",
    "            s = s + 1\n",
    "    return s\n",
    "\n",
    "def cbSoleentHH():\n",
    "    s = 0\n",
    "    for i in ent_edu_master.index:\n",
    "        if ent_edu_master.at[i, \"treatment\"] == 0 and ent_edu_master.at[i, \"soleent\"] > 0:\n",
    "            s = s + 1\n",
    "    return s\n",
    "\n",
    "print(\"Number of control households:\")\n",
    "print(controlHH())\n",
    "print(\"Number of control households with joint enterprise at baseline:\")\n",
    "print(cbJointEntHH())\n",
    "print(cbJointEntHH()/controlHH() * 100)\n",
    "\n",
    "print()\n",
    "print(\"Percentage of joint enterprise / enterprise: \")\n",
    "print(cbJointEntHH() / cbEntHH() * 100)\n",
    "\n",
    "print()\n",
    "print(\"Percentage of own enterprise / enterprise: \")\n",
    "print(cbSoleentHH() / cbEntHH() * 100)"
   ]
  },
  {
   "cell_type": "code",
   "execution_count": null,
   "metadata": {},
   "outputs": [],
   "source": [
    "ent = ent_edu_master[ent_edu_master[\"enterprise\"] >= 1]\n",
    "ent[ent[\"jointent\"] >= 1][\"jointent\"].sum() / len(ent)"
   ]
  },
  {
   "cell_type": "code",
   "execution_count": null,
   "metadata": {},
   "outputs": [],
   "source": [
    "# calculates percentage of control households with joint enterprise at follow up\n",
    "def cfJointEntHH():\n",
    "    s = 0\n",
    "    for i in ent_edu_master.index:\n",
    "        if ent_edu_master.at[i, \"treatment\"] == 0 and ent_edu_master.at[i, \"f_enterprise\"] > 0:\n",
    "            s = s + 1\n",
    "    return s\n",
    "\n",
    "print(\"Number of control households:\")\n",
    "print(controlHH())\n",
    "print(\"Number of control households with joint enterprise at followup:\")\n",
    "print(cfJointEntHH())\n",
    "print(cfJointEntHH()/controlHH() * 100)"
   ]
  },
  {
   "cell_type": "code",
   "execution_count": null,
   "metadata": {},
   "outputs": [],
   "source": [
    "# calculates percentage of individual loan households with joint enterprise at baseline\n",
    "def individualHH():\n",
    "    s = 0\n",
    "    for i in ent_edu_master.index:\n",
    "        if ent_edu_master.at[i, \"treatment\"] == 1:\n",
    "            s = s + 1\n",
    "    return s\n",
    "\n",
    "def ibJointEntHH():\n",
    "    s = 0\n",
    "    for i in ent_edu_master.index:\n",
    "        if ent_edu_master.at[i, \"treatment\"] == 1 and ent_edu_master.at[i, \"enterprise\"] > 0:\n",
    "            s = s + 1\n",
    "    return s\n",
    "\n",
    "print(\"Number of individual loan households:\")\n",
    "print(individualHH())\n",
    "print(\"Number of individual loan households with joint enterprise at baseline:\")\n",
    "print(ibJointEntHH())\n",
    "print(ibJointEntHH()/individualHH() * 100)"
   ]
  },
  {
   "cell_type": "code",
   "execution_count": null,
   "metadata": {},
   "outputs": [],
   "source": [
    "# calculates percentage of individual loan households with joint enterprise at followup\n",
    "def ifJointEntHH():\n",
    "    s = 0\n",
    "    for i in ent_edu_master.index:\n",
    "        if ent_edu_master.at[i, \"treatment\"] == 1 and ent_edu_master.at[i, \"f_enterprise\"] > 0:\n",
    "            s = s + 1\n",
    "    return s\n",
    "\n",
    "print(\"Number of individual loan households:\")\n",
    "print(individualHH())\n",
    "print(\"Number of individual loan households with joint enterprise at followup:\")\n",
    "print(ifJointEntHH())\n",
    "print(ifJointEntHH()/individualHH() * 100)"
   ]
  },
  {
   "cell_type": "code",
   "execution_count": null,
   "metadata": {},
   "outputs": [],
   "source": [
    "# calculates percentage of group loan households with joint enterprise at baseline\n",
    "def groupHH():\n",
    "    s = 0\n",
    "    for i in ent_edu_master.index:\n",
    "        if ent_edu_master.at[i, \"treatment\"] == 2:\n",
    "            s = s + 1\n",
    "    return s\n",
    "\n",
    "def gbJointEntHH():\n",
    "    s = 0\n",
    "    for i in ent_edu_master.index:\n",
    "        if ent_edu_master.at[i, \"treatment\"] == 2 and ent_edu_master.at[i, \"enterprise\"] > 0:\n",
    "            s = s + 1\n",
    "    return s\n",
    "\n",
    "print(\"Number of group loan households:\")\n",
    "print(groupHH())\n",
    "print(\"Number of group loan households with joint enterprise at baseline:\")\n",
    "print(gbJointEntHH())\n",
    "print(gbJointEntHH()/groupHH() * 100)"
   ]
  },
  {
   "cell_type": "code",
   "execution_count": null,
   "metadata": {},
   "outputs": [],
   "source": [
    "# calculates percentage of group loan households with joint enterprise at followup\n",
    "def gfJointEntHH():\n",
    "    s = 0\n",
    "    for i in ent_edu_master.index:\n",
    "        if ent_edu_master.at[i, \"treatment\"] == 2 and ent_edu_master.at[i, \"f_enterprise\"] > 0:\n",
    "            s = s + 1\n",
    "    return s\n",
    "\n",
    "print(\"Number of group loan households:\")\n",
    "print(groupHH())\n",
    "print(\"Number of group loan households with joint enterprise at followup:\")\n",
    "print(gfJointEntHH())\n",
    "print(gfJointEntHH()/groupHH() * 100)"
   ]
  }
 ],
 "metadata": {
  "kernelspec": {
   "display_name": "Python 3",
   "language": "python",
   "name": "python3"
  },
  "language_info": {
   "codemirror_mode": {
    "name": "ipython",
    "version": 3
   },
   "file_extension": ".py",
   "mimetype": "text/x-python",
   "name": "python",
   "nbconvert_exporter": "python",
   "pygments_lexer": "ipython3",
   "version": "3.6.5"
  }
 },
 "nbformat": 4,
 "nbformat_minor": 2
}
