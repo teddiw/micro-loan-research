{
 "cells": [
  {
   "cell_type": "code",
   "execution_count": 1,
   "metadata": {},
   "outputs": [
    {
     "name": "stdout",
     "output_type": "stream",
     "text": [
      "Populating the interactive namespace from numpy and matplotlib\n"
     ]
    },
    {
     "ename": "ModuleNotFoundError",
     "evalue": "No module named 'pandas'",
     "output_type": "error",
     "traceback": [
      "\u001b[0;31m---------------------------------------------------------------------------\u001b[0m",
      "\u001b[0;31mModuleNotFoundError\u001b[0m                       Traceback (most recent call last)",
      "\u001b[0;32m<ipython-input-1-7101cd00d535>\u001b[0m in \u001b[0;36m<module>\u001b[0;34m\u001b[0m\n\u001b[1;32m      1\u001b[0m \u001b[0mget_ipython\u001b[0m\u001b[0;34m(\u001b[0m\u001b[0;34m)\u001b[0m\u001b[0;34m.\u001b[0m\u001b[0mrun_line_magic\u001b[0m\u001b[0;34m(\u001b[0m\u001b[0;34m'pylab'\u001b[0m\u001b[0;34m,\u001b[0m \u001b[0;34m'inline'\u001b[0m\u001b[0;34m)\u001b[0m\u001b[0;34m\u001b[0m\u001b[0;34m\u001b[0m\u001b[0m\n\u001b[1;32m      2\u001b[0m \u001b[0;34m\u001b[0m\u001b[0m\n\u001b[0;32m----> 3\u001b[0;31m \u001b[0;32mimport\u001b[0m \u001b[0mpandas\u001b[0m \u001b[0;32mas\u001b[0m \u001b[0mpd\u001b[0m\u001b[0;34m\u001b[0m\u001b[0;34m\u001b[0m\u001b[0m\n\u001b[0m\u001b[1;32m      4\u001b[0m \u001b[0;32mimport\u001b[0m \u001b[0mseaborn\u001b[0m \u001b[0;32mas\u001b[0m \u001b[0msns\u001b[0m\u001b[0;34m\u001b[0m\u001b[0;34m\u001b[0m\u001b[0m\n\u001b[1;32m      5\u001b[0m \u001b[0;32mimport\u001b[0m \u001b[0mmatplotlib\u001b[0m\u001b[0;34m.\u001b[0m\u001b[0mpyplot\u001b[0m \u001b[0;32mas\u001b[0m \u001b[0mplt\u001b[0m\u001b[0;34m\u001b[0m\u001b[0;34m\u001b[0m\u001b[0m\n",
      "\u001b[0;31mModuleNotFoundError\u001b[0m: No module named 'pandas'"
     ]
    }
   ],
   "source": [
    "%pylab inline\n",
    "\n",
    "import pandas as pd\n",
    "import seaborn as sns\n",
    "import matplotlib.pyplot as plt\n",
    "import seaborn as sns"
   ]
  },
  {
   "cell_type": "code",
   "execution_count": 257,
   "metadata": {},
   "outputs": [],
   "source": [
    "# Loads followup ent data and identifies rescodes\n",
    "data_type_followup = \"f_Sections F,G,h - Ent.dta\"\n",
    "data_file_followup = \"Analysis files/data/Followup/{0}\".format(data_type_followup)\n",
    "data_ent_followup = pd.read_stata(data_file_followup, convert_categoricals=False)\n",
    "\n",
    "# takes the rescode column for the followup and removes duplicates \n",
    "rescodes_ent_followup = data_ent_followup[['rescode']]\n",
    "rescodes_ent_followup = rescodes_ent_followup.drop_duplicates()"
   ]
  },
  {
   "cell_type": "code",
   "execution_count": 258,
   "metadata": {},
   "outputs": [],
   "source": [
    "# Loads baseline education data and identifies rescodes\n",
    "data_type_baseline = \"personal info.dta\"\n",
    "data_file_baseline = \"Analysis files/data/Baseline/{0}\".format(data_type_baseline)\n",
    "data_edu_baseline = pd.read_stata(data_file_baseline, convert_categoricals=False)\n",
    "\n",
    "# takes the rescode column for the baseline and removes duplicates \n",
    "rescodes_edu_baseline = data_edu_baseline[['rescode']]\n",
    "rescodes_edu_baseline = rescodes_edu_baseline.drop_duplicates()"
   ]
  },
  {
   "cell_type": "code",
   "execution_count": 259,
   "metadata": {},
   "outputs": [
    {
     "name": "stdout",
     "output_type": "stream",
     "text": [
      "Number of households at baseline:  1148\n",
      "Number of households at followup:  961\n",
      "About the reported 16% attrition rate:  16.28919860627178\n"
     ]
    }
   ],
   "source": [
    "# checks for accurate attrition rate\n",
    "num_rescodes_edu_baseline = len(rescodes_edu_baseline)\n",
    "num_rescodes_ent_followup = len(rescodes_ent_followup)\n",
    "print(\"Number of households at baseline: \", num_rescodes_edu_baseline)\n",
    "print(\"Number of households at followup: \", num_rescodes_ent_followup)\n",
    "print(\"About the reported 16% attrition rate: \", 100 * (num_rescodes_edu_baseline - num_rescodes_ent_followup) / num_rescodes_edu_baseline)"
   ]
  },
  {
   "cell_type": "code",
   "execution_count": 260,
   "metadata": {},
   "outputs": [
    {
     "name": "stdout",
     "output_type": "stream",
     "text": [
      "Number of households at followup:  961\n",
      "Number of households at adjusted baseline:  961\n",
      "Length of data_followup:  961\n",
      "Length of updated_baseline:  961\n"
     ]
    }
   ],
   "source": [
    "# Removes attrition from baseline education data merge and sanity checks\n",
    "updated_edu_baseline = rescodes_ent_followup.merge(data_edu_baseline, on=\"rescode\", how=\"left\")\n",
    "\n",
    "updated_baseline_edu_rescodes = updated_edu_baseline[\"rescode\"]\n",
    "updated_baseline_edu_rescodes = updated_baseline_edu_rescodes.drop_duplicates()\n",
    "\n",
    "num_updated_baseline_edu_rescodes = len(updated_baseline_edu_rescodes)\n",
    "print(\"Number of households at followup: \", num_rescodes_ent_followup)\n",
    "print(\"Number of households at adjusted baseline: \", num_updated_baseline_edu_rescodes)\n",
    "\n",
    "print(\"Length of data_followup: \", len(data_ent_followup))\n",
    "print(\"Length of updated_baseline: \", len(updated_edu_baseline))"
   ]
  },
  {
   "cell_type": "code",
   "execution_count": 261,
   "metadata": {},
   "outputs": [],
   "source": [
    "# Loads baseline ent data and identifies rescodes\n",
    "data_type_baseline = \"Sections F,G,h - Ent.dta\"\n",
    "data_file_baseline = \"Analysis files/data/Baseline/{0}\".format(data_type_baseline)\n",
    "data_ent_baseline = pd.read_stata(data_file_baseline, convert_categoricals=False)\n",
    "\n",
    "# takes the rescode column for the baseline and removes duplicates \n",
    "rescodes_ent_baseline = data_ent_baseline['rescode']\n",
    "rescodes_ent_baseline = rescodes_ent_baseline.drop_duplicates()"
   ]
  },
  {
   "cell_type": "code",
   "execution_count": 262,
   "metadata": {},
   "outputs": [
    {
     "name": "stdout",
     "output_type": "stream",
     "text": [
      "Number of households at baseline:  1148\n",
      "Number of households at followup:  961\n",
      "About the reported 16% attrition rate:  16.28919860627178\n"
     ]
    }
   ],
   "source": [
    "# checks for accurate attrition rate\n",
    "num_rescodes_ent_baseline = len(rescodes_ent_baseline)\n",
    "print(\"Number of households at baseline: \", num_rescodes_ent_baseline)\n",
    "print(\"Number of households at followup: \", num_rescodes_ent_followup)\n",
    "print(\"About the reported 16% attrition rate: \", 100 * (num_rescodes_ent_baseline - num_rescodes_ent_followup) / num_rescodes_ent_baseline)"
   ]
  },
  {
   "cell_type": "code",
   "execution_count": 263,
   "metadata": {},
   "outputs": [
    {
     "name": "stdout",
     "output_type": "stream",
     "text": [
      "Number of households at followup:  961\n",
      "Number of households at adjusted baseline:  961\n",
      "Length of data_followup:  961\n",
      "Length of updated_baseline:  961\n"
     ]
    }
   ],
   "source": [
    "#Removes attrition from baseline education data merge and sanity checks\n",
    "updated_ent_baseline = rescodes_ent_followup.merge(data_ent_baseline, on=\"rescode\", how=\"left\")\n",
    "updated_baseline_ent_rescodes = updated_ent_baseline[\"rescode\"]\n",
    "updated_baseline_ent_rescodes = updated_baseline_ent_rescodes.drop_duplicates()\n",
    "\n",
    "num_updated_baseline_edu_rescodes = len(updated_baseline_edu_rescodes)\n",
    "print(\"Number of households at followup: \", num_rescodes_ent_followup)\n",
    "print(\"Number of households at adjusted baseline: \", num_updated_baseline_edu_rescodes)\n",
    "\n",
    "print(\"Length of data_followup: \", len(data_ent_followup))\n",
    "print(\"Length of updated_baseline: \", len(updated_edu_baseline))"
   ]
  },
  {
   "cell_type": "code",
   "execution_count": 264,
   "metadata": {},
   "outputs": [
    {
     "name": "stdout",
     "output_type": "stream",
     "text": [
      "No rescode order mismatches; safe to join\n"
     ]
    }
   ],
   "source": [
    "# Now, we have updated_edu_baseline, updated_ent_baseline, and data_ent_followup. \n",
    "# Trims down each data frame to the columns we want\n",
    "# Checks that rescodes are all in the same order\n",
    "\n",
    "edu_baseline = updated_edu_baseline\n",
    "ent_baseline = updated_ent_baseline[['rescode', 'treatment', 'enterprise', 'jointent', 'nrjointent', 'soleent', 'partnent']]\n",
    "ent_followup = data_ent_followup[['rescode', 'treatment', 'f_enterprise', 'f_jointent', 'f_nrjointent', 'f_soleent', 'f_partnent']]\n",
    "\n",
    "# Rescodes loaded in order from each df into separate arrays\n",
    "b_edu_rescodes = list()\n",
    "for i in edu_baseline.index:\n",
    "    b_edu_rescodes.append(edu_baseline.at[i, \"rescode\"]) \n",
    "\n",
    "b_ent_rescodes = list()\n",
    "for i in ent_baseline.index:\n",
    "    b_ent_rescodes.append(ent_baseline.at[i, \"rescode\"]) \n",
    "    \n",
    "f_ent_rescodes = list()\n",
    "for i in ent_followup.index:\n",
    "    f_ent_rescodes.append(ent_followup.at[i, \"rescode\"])  \n",
    "\n",
    "# Rescode arrays elements compared in order to find discrepancies\n",
    "no_mismatch = True\n",
    "for i in range(len(b_edu_rescodes)):\n",
    "    if b_edu_rescodes[i] != b_ent_rescodes[i]:\n",
    "        no_mismatch = False\n",
    "    if b_edu_rescodes[i] != f_ent_rescodes[i]:\n",
    "        no_mismatch = False\n",
    "    if b_ent_rescodes[i] != f_ent_rescodes[i]:\n",
    "        no_mismatch = False\n",
    "if no_mismatch:\n",
    "    print(\"No rescode order mismatches; safe to join\")"
   ]
  },
  {
   "cell_type": "code",
   "execution_count": 265,
   "metadata": {},
   "outputs": [
    {
     "name": "stdout",
     "output_type": "stream",
     "text": [
      "rescode treatment enterprise jointent nrjointent soleent partnent f_enterprise f_jointent f_nrjointent f_soleent f_partnent age\n",
      "Age bins are now 10-29, 30-39, 40-49, 50-69\n"
     ]
    }
   ],
   "source": [
    "# Creates big array with edu_baseline, ent_baseline, and ent_followup. Corrects NaN values to zero.\n",
    "ent_edu_master = ent_baseline.join(ent_followup[['f_enterprise', 'f_jointent', 'f_nrjointent', 'f_soleent', 'f_partnent']])\n",
    "#rowsToDrop = ent_edu_master[ent_edu_master.index > len(updated_edu_baseline.index) - 1]\n",
    "#ent_edu_master = ent_edu_master.drop(rowsToDrop.index, axis=0)\n",
    "\n",
    "\n",
    "ent_edu_master = ent_edu_master.join(edu_baseline[[\"age\"]])\n",
    "ent_edu_master = ent_edu_master.fillna(0)\n",
    "\n",
    "\n",
    "ent_edu_master['age'] = ent_edu_master['age'].apply(lambda x: x//10)\n",
    "\n",
    "#These bins were determined based off of size of each age bin\n",
    "ent_edu_master.loc[ent_edu_master.age==1, 'age'] = 2\n",
    "ent_edu_master.loc[ent_edu_master.age==6, 'age'] = 5\n",
    "\n",
    "\n",
    "\n",
    "#df_control_graphing = ent_edu_graphing.loc[ent_edu_graphing['treatment'] == 0, :]\n",
    "#rowsToDrop = ent_edu_master[ent_edu_master.index > len(updated_edu_baseline.index) - 1]\n",
    "#ent_edu_master = ent_edu_master.drop(rowsToDrop.index, axis=0)\n",
    "\n",
    "print(\"rescode treatment enterprise jointent nrjointent soleent partnent f_enterprise f_jointent f_nrjointent f_soleent f_partnent age\")\n",
    "\n",
    "print(\"Age bins are now 10-29, 30-39, 40-49, 50-69\")"
   ]
  },
  {
   "cell_type": "code",
   "execution_count": 266,
   "metadata": {},
   "outputs": [
    {
     "name": "stdout",
     "output_type": "stream",
     "text": [
      "rescode\ttreatment\tenterprise\tjointent\tnrjointent\tsoleent\tpartnent\tf_enterprise\tf_jointent\tf_nrjointent\tf_soleent\tf_partnent\tedulow\teduvoc\teduhigh\tbaselineOrFollowup\teducation\n"
     ]
    }
   ],
   "source": [
    "#Creates new data frame with twice as many rows (first set for baseline, second for followup) \n",
    "ent_edu_graphing = ent_edu_master.append(ent_edu_master, ignore_index=True)\n",
    "\n",
    "#new row to indicate baseline (false) or followup (true)\n",
    "ent_edu_graphing['baselineOrFollowup'] = ent_edu_graphing.index > len(updated_edu_baseline.index) - 1\n",
    "\n",
    "#adds combined_enterprise that contains enterprise for the first half and f_enterprise for the second half\n",
    "df = pd.DataFrame({'enterprise': ent_edu_master['enterprise'].append(ent_edu_master['f_enterprise'], ignore_index=True)})\n",
    "ent_edu_graphing['combined_enterprise'] = df['enterprise']\n",
    "\n",
    "#adds combined_jointent that contains jointent for the first half and f_jointent for the second half\n",
    "df = pd.DataFrame({'jointent': ent_edu_master['jointent'].append(ent_edu_master['f_jointent'], ignore_index=True)})\n",
    "ent_edu_graphing['combined_jointent'] = df['jointent']\n",
    "\n",
    "#adds combined_enterprise that contains soleent for the first half and f_soleent for the second half\n",
    "df = pd.DataFrame({'soleent': ent_edu_master['soleent'].append(ent_edu_master['f_soleent'], ignore_index=True)})\n",
    "ent_edu_graphing['combined_soleent'] = df['soleent']\n",
    "\n",
    "#adds combined_enterprise that contains partnent for the first half and f_partnent for the second half\n",
    "df = pd.DataFrame({'partnent': ent_edu_master['partnent'].append(ent_edu_master['f_partnent'], ignore_index=True)})\n",
    "ent_edu_graphing['combined_partnent'] = df['partnent']\n",
    "\n",
    "print('rescode\ttreatment\tenterprise\tjointent\tnrjointent\tsoleent\tpartnent\tf_enterprise\tf_jointent\tf_nrjointent\tf_soleent\tf_partnent\tedulow\teduvoc\teduhigh\tbaselineOrFollowup\teducation')\n",
    "#ent_edu_graphing"
   ]
  },
  {
   "cell_type": "code",
   "execution_count": 267,
   "metadata": {},
   "outputs": [
    {
     "name": "stdout",
     "output_type": "stream",
     "text": [
      "0\n",
      "0\n",
      "142\n",
      "323\n",
      "354\n",
      "142\n",
      "0\n",
      "0\n",
      "0\n",
      "0\n"
     ]
    }
   ],
   "source": [
    "#Find number of participants in each age bin\n",
    "ageBin0 = len(ent_edu_master.loc[ent_edu_master['age'] == 0, :])\n",
    "ageBin1 = len(ent_edu_master.loc[ent_edu_master['age'] == 1, :])\n",
    "ageBin2 = len(ent_edu_master.loc[ent_edu_master['age'] == 2, :])\n",
    "ageBin3 = len(ent_edu_master.loc[ent_edu_master['age'] == 3, :])\n",
    "ageBin4 = len(ent_edu_master.loc[ent_edu_master['age'] == 4, :])\n",
    "ageBin5 = len(ent_edu_master.loc[ent_edu_master['age'] == 5, :])\n",
    "ageBin6 = len(ent_edu_master.loc[ent_edu_master['age'] == 6, :])\n",
    "ageBin7 = len(ent_edu_master.loc[ent_edu_master['age'] == 7, :])\n",
    "ageBin8 = len(ent_edu_master.loc[ent_edu_master['age'] == 8, :])\n",
    "ageBin9 = len(ent_edu_master.loc[ent_edu_master['age'] == 9, :])\n",
    "print(ageBin0)\n",
    "print(ageBin1)\n",
    "print(ageBin2)\n",
    "print(ageBin3)\n",
    "print(ageBin4)\n",
    "print(ageBin5)\n",
    "print(ageBin6)\n",
    "print(ageBin7)\n",
    "print(ageBin8)\n",
    "print(ageBin9)\n"
   ]
  },
  {
   "cell_type": "code",
   "execution_count": 268,
   "metadata": {},
   "outputs": [],
   "source": [
    "copyDF = ent_edu_graphing.copy()\n",
    "copyDF[\"age\"] = 10\n",
    "ent_edu_graphing = ent_edu_graphing.append(copyDF, ignore_index=True, sort=False)\n"
   ]
  },
  {
   "cell_type": "code",
   "execution_count": 269,
   "metadata": {},
   "outputs": [],
   "source": [
    "df_control_graphing = ent_edu_graphing.loc[ent_edu_graphing['treatment'] == 0, :]\n",
    "df_individual_graphing = ent_edu_graphing.loc[ent_edu_graphing['treatment'] == 1, :]\n",
    "df_group_graphing = ent_edu_graphing.loc[ent_edu_graphing['treatment'] == 2, :]"
   ]
  },
  {
   "cell_type": "code",
   "execution_count": 270,
   "metadata": {
    "scrolled": true
   },
   "outputs": [
    {
     "data": {
      "image/png": "[encoded data removed]",
      "text/plain": [
       "<Figure size 432x288 with 1 Axes>"
      ]
     },
     "metadata": {},
     "output_type": "display_data"
    }
   ],
   "source": [
    "groupLoanGraphSoleent = sns.barplot(x='age', y=\"combined_soleent\", hue=\"baselineOrFollowup\", data=df_group_graphing, ci=None)"
   ]
  },
  {
   "cell_type": "code",
   "execution_count": 271,
   "metadata": {},
   "outputs": [
    {
     "data": {
      "image/png": "[encoded data removed]",
      "text/plain": [
       "<Figure size 432x288 with 1 Axes>"
      ]
     },
     "metadata": {},
     "output_type": "display_data"
    }
   ],
   "source": [
    "groupLoanGraphEnterprise = sns.barplot(x='age', y=\"combined_enterprise\", hue=\"baselineOrFollowup\", data=df_group_graphing, ci=None)"
   ]
  },
  {
   "cell_type": "code",
   "execution_count": null,
   "metadata": {},
   "outputs": [],
   "source": []
  },
  {
   "cell_type": "code",
   "execution_count": null,
   "metadata": {},
   "outputs": [],
   "source": []
  }
 ],
 "metadata": {
  "kernelspec": {
   "display_name": "Python 3",
   "language": "python",
   "name": "python3"
  },
  "language_info": {
   "codemirror_mode": {
    "name": "ipython",
    "version": 3
   },
   "file_extension": ".py",
   "mimetype": "text/x-python",
   "name": "python",
   "nbconvert_exporter": "python",
   "pygments_lexer": "ipython3",
   "version": "3.6.9"
  }
 },
 "nbformat": 4,
 "nbformat_minor": 2
}
