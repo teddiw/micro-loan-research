{
 "cells": [
  {
   "cell_type": "code",
   "execution_count": 1,
   "metadata": {},
   "outputs": [
    {
     "name": "stdout",
     "output_type": "stream",
     "text": [
      "Populating the interactive namespace from numpy and matplotlib\n"
     ]
    }
   ],
   "source": [
    "%pylab inline\n",
    "\n",
    "import pandas as pd\n",
    "import seaborn as sns\n",
    "import matplotlib.pyplot as plt\n",
    "from mpl_toolkits.mplot3d import Axes3D\n",
    "import seaborn as sns\n",
    "\n",
    "from methods import *"
   ]
  },
  {
   "cell_type": "code",
   "execution_count": 2,
   "metadata": {},
   "outputs": [],
   "source": [
    "#Loads files as dataframes\n",
    "data_ent_followup = create_df(\"f_Sections F,G,h - Ent.dta\", \"Analysis files/data/Followup/{0}\")\n",
    "\n",
    "data_edu_baseline = create_df(\"education.dta\", \"Analysis files/data/Baseline/{0}\")\n",
    "\n",
    "data_ent_baseline = create_df(\"Sections F,G,h - Ent.dta\", \"Analysis files/data/Baseline/{0}\")\n",
    "\n",
    "data_age_baseline = create_df(\"personal info.dta\", \"Analysis files/data/Baseline/{0}\")"
   ]
  },
  {
   "cell_type": "code",
   "execution_count": 3,
   "metadata": {},
   "outputs": [
    {
     "name": "stdout",
     "output_type": "stream",
     "text": [
      "Number of households at followup:  961\n",
      "Number of households at adjusted baseline:  961\n",
      "Number of households at followup:  961\n",
      "Number of households at adjusted baseline:  961\n",
      "Number of households at followup:  961\n",
      "Number of households at adjusted baseline:  961\n"
     ]
    }
   ],
   "source": [
    "#Removes attrition from the baseline dataframes\n",
    "updated_edu_baseline = remove_attrition(data_edu_baseline, data_ent_followup)\n",
    "updated_ent_baseline = remove_attrition(data_ent_baseline, data_ent_followup)\n",
    "updated_age_baseline = remove_attrition(data_age_baseline, data_ent_followup)"
   ]
  },
  {
   "cell_type": "code",
   "execution_count": 4,
   "metadata": {},
   "outputs": [],
   "source": [
    "#Creates big array with the desired columns of edu_baseline, ent_baseline, and ent_followup.\n",
    "#Contains the columns specified below.\n",
    "#Corrects NaN values to zero.\n",
    "ent_edu_master = updated_ent_baseline[['treatment_x', 'rescode', 'enterprise', 'soleent']].join(data_ent_followup[['f_enterprise', 'f_soleent']])\n",
    "ent_edu_master = ent_edu_master.join(updated_edu_baseline[[\"edulow\", \"eduvoc\", \"eduhigh\"]])\n",
    "ent_edu_master = ent_edu_master.join(updated_age_baseline[[\"age\"]])\n",
    "ent_edu_master = ent_edu_master.fillna(0)"
   ]
  },
  {
   "cell_type": "code",
   "execution_count": 5,
   "metadata": {},
   "outputs": [
    {
     "name": "stdout",
     "output_type": "stream",
     "text": [
      "0 ) 0\n",
      "1 ) 0\n",
      "2 ) 0\n",
      "3 ) 169\n",
      "4 ) 182\n",
      "5 ) 0\n",
      "6 ) 0\n",
      "7 ) 0\n",
      "8 ) 0\n",
      "9 ) 0\n"
     ]
    }
   ],
   "source": [
    "#Find number of participants in each age bin: 18-39, 40-69\n",
    "ent_edu_age2 = ent_edu_master.copy()\n",
    "\n",
    "ent_edu_age2['age'] = ent_edu_age2['age'].apply(lambda x: x//10)\n",
    "ent_edu_age2.loc[ent_edu_age2.age==1, 'age'] = 3\n",
    "ent_edu_age2.loc[ent_edu_age2.age==6, 'age'] = 4\n",
    "ent_edu_age2.loc[ent_edu_age2.age==2, 'age'] = 3\n",
    "ent_edu_age2.loc[ent_edu_age2.age==5, 'age'] = 4\n",
    "\n",
    "for i in range(10):\n",
    "    print(i,')', len(ent_edu_age2.loc[(ent_edu_age2['age'] == i)&(ent_edu_age2['treatment_x']==2), :]))\n",
    "    \n",
    "ageBins = ['18-39', '40-69']\n",
    "\n",
    "for i in range(3, 5):\n",
    "    ent_edu_age2.loc[ent_edu_age2['age']==i, 'agebin'] = ageBins[i-3]"
   ]
  },
  {
   "cell_type": "code",
   "execution_count": 6,
   "metadata": {},
   "outputs": [],
   "source": [
    "#control: treatment_x = 0\n",
    "#individual: treatment_x = 1\n",
    "#group: treatment_x = 2"
   ]
  },
  {
   "cell_type": "code",
   "execution_count": 7,
   "metadata": {},
   "outputs": [],
   "source": [
    "def mean(column):\n",
    "    sum = column.sum()\n",
    "    length = len(column)\n",
    "    return sum/length\n",
    "\n",
    "def sd(column):\n",
    "    sum = 0\n",
    "    m = mean(column)\n",
    "    for i in range(len(column)):\n",
    "        sum = sum + math.pow(column.iloc[i] - m, 2)\n",
    "    return math.pow(sum/len(column), 0.5)\n",
    "\n",
    "def ci_ND(column):\n",
    "    sd_ = sd(column)\n",
    "    return (1.96*sd_)/math.pow(len(column), 0.5)"
   ]
  },
  {
   "cell_type": "code",
   "execution_count": 8,
   "metadata": {},
   "outputs": [],
   "source": [
    "ent_edu_age2['difference'] = ent_edu_age2['f_soleent'] - ent_edu_age2['soleent']"
   ]
  },
  {
   "cell_type": "code",
   "execution_count": 9,
   "metadata": {},
   "outputs": [],
   "source": [
    "#Copy of ent_edu_master for 'conversion rate' analysis, adds edu column, \n",
    "ent_edu_age2['edu'] = ent_edu_age2['edulow']*2 + ent_edu_age2['eduvoc']*2 + ent_edu_age2['eduhigh'] * 3\n",
    "eduBins = ['edulow & voc ', 'eduhigh']\n",
    "for i in range(2, 4):\n",
    "    ent_edu_age2.loc[ent_edu_age2['edu']==i, 'edubin'] = eduBins[i-2]\n",
    "\n"
   ]
  },
  {
   "cell_type": "code",
   "execution_count": 10,
   "metadata": {},
   "outputs": [],
   "source": [
    "#ent_edu_age2\n",
    "treatment = 1"
   ]
  },
  {
   "cell_type": "code",
   "execution_count": 11,
   "metadata": {},
   "outputs": [
    {
     "data": {
      "text/html": [
       "<div>\n",
       "<style scoped>\n",
       "    .dataframe tbody tr th:only-of-type {\n",
       "        vertical-align: middle;\n",
       "    }\n",
       "\n",
       "    .dataframe tbody tr th {\n",
       "        vertical-align: top;\n",
       "    }\n",
       "\n",
       "    .dataframe thead th {\n",
       "        text-align: right;\n",
       "    }\n",
       "</style>\n",
       "<table border=\"1\" class=\"dataframe\">\n",
       "  <thead>\n",
       "    <tr style=\"text-align: right;\">\n",
       "      <th></th>\n",
       "      <th>edu</th>\n",
       "      <th>edubin</th>\n",
       "      <th>agebin</th>\n",
       "      <th>avg. change</th>\n",
       "      <th>sd</th>\n",
       "      <th>margin of error</th>\n",
       "      <th>all people</th>\n",
       "    </tr>\n",
       "  </thead>\n",
       "  <tbody>\n",
       "    <tr>\n",
       "      <td>0</td>\n",
       "      <td>2</td>\n",
       "      <td>edulow &amp; voc</td>\n",
       "      <td>18-39</td>\n",
       "      <td>-0.148936</td>\n",
       "      <td>0.544947</td>\n",
       "      <td>0.155798</td>\n",
       "      <td>47</td>\n",
       "    </tr>\n",
       "    <tr>\n",
       "      <td>1</td>\n",
       "      <td>3</td>\n",
       "      <td>eduhigh</td>\n",
       "      <td>18-39</td>\n",
       "      <td>-0.031746</td>\n",
       "      <td>0.533579</td>\n",
       "      <td>0.093169</td>\n",
       "      <td>126</td>\n",
       "    </tr>\n",
       "    <tr>\n",
       "      <td>2</td>\n",
       "      <td>2</td>\n",
       "      <td>edulow &amp; voc</td>\n",
       "      <td>40-69</td>\n",
       "      <td>0.030303</td>\n",
       "      <td>0.549647</td>\n",
       "      <td>0.132608</td>\n",
       "      <td>66</td>\n",
       "    </tr>\n",
       "    <tr>\n",
       "      <td>3</td>\n",
       "      <td>3</td>\n",
       "      <td>eduhigh</td>\n",
       "      <td>40-69</td>\n",
       "      <td>-0.009009</td>\n",
       "      <td>0.511058</td>\n",
       "      <td>0.095075</td>\n",
       "      <td>111</td>\n",
       "    </tr>\n",
       "  </tbody>\n",
       "</table>\n",
       "</div>"
      ],
      "text/plain": [
       "  edu         edubin agebin  avg. change        sd  margin of error all people\n",
       "0   2  edulow & voc   18-39    -0.148936  0.544947         0.155798         47\n",
       "1   3        eduhigh  18-39    -0.031746  0.533579         0.093169        126\n",
       "2   2  edulow & voc   40-69     0.030303  0.549647         0.132608         66\n",
       "3   3        eduhigh  40-69    -0.009009  0.511058         0.095075        111"
      ]
     },
     "execution_count": 11,
     "metadata": {},
     "output_type": "execute_result"
    }
   ],
   "source": [
    "#avg. change chart with binning by age AND edu for GROUP or INDIVIDUAL\n",
    "eduANDageGroup = pd.DataFrame(columns = ['edu', 'edubin', 'agebin', 'avg. change', 'sd', 'margin of error', 'all people']) \n",
    "\n",
    "for i in range(3, 5):\n",
    "    for j in range(2, 4):\n",
    "        ap = len(ent_edu_age2[(ent_edu_age2.treatment_x == treatment)&(ent_edu_age2.age == i) & (ent_edu_age2.edu == j)])\n",
    "        diff = ent_edu_age2[(ent_edu_age2.treatment_x == treatment)&(ent_edu_age2.age == i) & (ent_edu_age2.edu == j)].difference.sum()\n",
    "        agebin = ent_edu_age2[(ent_edu_age2['age'] == i)].iloc[0]['agebin']\n",
    "        edubin = ent_edu_age2[(ent_edu_age2['edu'] == j)].iloc[0]['edubin']\n",
    "        if ap != 0:\n",
    "            sd_ = sd(ent_edu_age2[(ent_edu_age2.treatment_x == treatment)&(ent_edu_age2.age == i) & (ent_edu_age2.edu == j)].difference)\n",
    "            mOe = ci_ND(ent_edu_age2[(ent_edu_age2.treatment_x == treatment)&(ent_edu_age2.age == i) & (ent_edu_age2.edu == j)].difference)\n",
    "            eduANDageGroup = eduANDageGroup.append({'edu': j, 'edubin': edubin, 'agebin': agebin, 'avg. change': diff/ap, 'sd' : sd_, 'margin of error': mOe, 'all people' : ap}, ignore_index=True)\n",
    "        else:\n",
    "            eduANDageGroup = eduANDageGroup.append({'edu': j, 'edubin': edubin, 'agebin': agebin, 'avg. change': 0, 'sd' : 0, 'margin of error': 0, 'all people' : 0}, ignore_index=True)\n",
    "\n",
    "eduANDageGroup"
   ]
  },
  {
   "cell_type": "code",
   "execution_count": 12,
   "metadata": {},
   "outputs": [
    {
     "data": {
      "image/png": "[encoded data removed]",
      "text/plain": [
       "<Figure size 432x288 with 2 Axes>"
      ]
     },
     "metadata": {
      "needs_background": "light"
     },
     "output_type": "display_data"
    }
   ],
   "source": [
    "eduANDageGroupGraphing = eduANDageGroup.pivot(\"edubin\", \"agebin\", \"avg. change\")\n",
    "ax = sns.heatmap(eduANDageGroupGraphing, annot=True)"
   ]
  },
  {
   "cell_type": "code",
   "execution_count": 13,
   "metadata": {},
   "outputs": [
    {
     "data": {
      "text/html": [
       "<div>\n",
       "<style scoped>\n",
       "    .dataframe tbody tr th:only-of-type {\n",
       "        vertical-align: middle;\n",
       "    }\n",
       "\n",
       "    .dataframe tbody tr th {\n",
       "        vertical-align: top;\n",
       "    }\n",
       "\n",
       "    .dataframe thead th {\n",
       "        text-align: right;\n",
       "    }\n",
       "</style>\n",
       "<table border=\"1\" class=\"dataframe\">\n",
       "  <thead>\n",
       "    <tr style=\"text-align: right;\">\n",
       "      <th></th>\n",
       "      <th>edu</th>\n",
       "      <th>edubin</th>\n",
       "      <th>agebin</th>\n",
       "      <th>avg. change</th>\n",
       "      <th>sd</th>\n",
       "      <th>margin of error</th>\n",
       "      <th>all people</th>\n",
       "    </tr>\n",
       "  </thead>\n",
       "  <tbody>\n",
       "    <tr>\n",
       "      <td>0</td>\n",
       "      <td>2</td>\n",
       "      <td>edulow &amp; voc</td>\n",
       "      <td>18-39</td>\n",
       "      <td>0.032258</td>\n",
       "      <td>0.594809</td>\n",
       "      <td>0.209389</td>\n",
       "      <td>31</td>\n",
       "    </tr>\n",
       "    <tr>\n",
       "      <td>1</td>\n",
       "      <td>3</td>\n",
       "      <td>eduhigh</td>\n",
       "      <td>18-39</td>\n",
       "      <td>0.076087</td>\n",
       "      <td>0.629591</td>\n",
       "      <td>0.128653</td>\n",
       "      <td>92</td>\n",
       "    </tr>\n",
       "    <tr>\n",
       "      <td>2</td>\n",
       "      <td>2</td>\n",
       "      <td>edulow &amp; voc</td>\n",
       "      <td>40-69</td>\n",
       "      <td>-0.015625</td>\n",
       "      <td>0.544638</td>\n",
       "      <td>0.133436</td>\n",
       "      <td>64</td>\n",
       "    </tr>\n",
       "    <tr>\n",
       "      <td>3</td>\n",
       "      <td>3</td>\n",
       "      <td>eduhigh</td>\n",
       "      <td>40-69</td>\n",
       "      <td>-0.109589</td>\n",
       "      <td>0.511823</td>\n",
       "      <td>0.117413</td>\n",
       "      <td>73</td>\n",
       "    </tr>\n",
       "  </tbody>\n",
       "</table>\n",
       "</div>"
      ],
      "text/plain": [
       "  edu         edubin agebin  avg. change        sd  margin of error all people\n",
       "0   2  edulow & voc   18-39     0.032258  0.594809         0.209389         31\n",
       "1   3        eduhigh  18-39     0.076087  0.629591         0.128653         92\n",
       "2   2  edulow & voc   40-69    -0.015625  0.544638         0.133436         64\n",
       "3   3        eduhigh  40-69    -0.109589  0.511823         0.117413         73"
      ]
     },
     "execution_count": 13,
     "metadata": {},
     "output_type": "execute_result"
    }
   ],
   "source": [
    "#avg. change chart with binning by age AND edu for CONTROL\n",
    "eduANDageGroupControlled = pd.DataFrame(columns = ['edu', 'edubin', 'agebin', 'avg. change', 'sd', 'margin of error', 'all people']) \n",
    "\n",
    "for i in range(3, 5):\n",
    "    for j in range(2, 4):\n",
    "        ap = len(ent_edu_age2[(ent_edu_age2.treatment_x == 0)&(ent_edu_age2.age == i) & (ent_edu_age2.edu == j)])\n",
    "        diff = ent_edu_age2[(ent_edu_age2.treatment_x == 0)&(ent_edu_age2.age == i) & (ent_edu_age2.edu == j)].difference.sum()\n",
    "        agebin = ent_edu_age2[(ent_edu_age2['age'] == i)].iloc[0]['agebin']\n",
    "        edubin = ent_edu_age2[(ent_edu_age2['edu'] == j)].iloc[0]['edubin']\n",
    "        if ap != 0:\n",
    "            sd_ = sd(ent_edu_age2[(ent_edu_age2.treatment_x == 0)&(ent_edu_age2.age == i) & (ent_edu_age2.edu == j)].difference)\n",
    "            mOe = ci_ND(ent_edu_age2[(ent_edu_age2.treatment_x == 0)&(ent_edu_age2.age == i) & (ent_edu_age2.edu == j)].difference)\n",
    "            eduANDageGroupControlled = eduANDageGroupControlled.append({'edu': j, 'edubin': edubin, 'agebin': agebin, 'avg. change': diff/ap, 'sd' : sd_, 'margin of error':mOe, 'all people' : ap}, ignore_index=True)\n",
    "        else:\n",
    "            eduANDageGroupControlled = eduANDageGroupControlled.append({'edu': j, 'edubin': edubin, 'agebin': agebin, 'avg. change': 0, 'sd' : 0, 'margin of error':0, 'all people' : 0}, ignore_index=True)\n",
    "\n",
    "eduANDageGroupControlled"
   ]
  },
  {
   "cell_type": "code",
   "execution_count": 14,
   "metadata": {},
   "outputs": [
    {
     "data": {
      "text/html": [
       "<div>\n",
       "<style scoped>\n",
       "    .dataframe tbody tr th:only-of-type {\n",
       "        vertical-align: middle;\n",
       "    }\n",
       "\n",
       "    .dataframe tbody tr th {\n",
       "        vertical-align: top;\n",
       "    }\n",
       "\n",
       "    .dataframe thead th {\n",
       "        text-align: right;\n",
       "    }\n",
       "</style>\n",
       "<table border=\"1\" class=\"dataframe\">\n",
       "  <thead>\n",
       "    <tr style=\"text-align: right;\">\n",
       "      <th></th>\n",
       "      <th>edu</th>\n",
       "      <th>edubin</th>\n",
       "      <th>agebin</th>\n",
       "      <th>avg. change</th>\n",
       "      <th>margin of error</th>\n",
       "      <th>all people T</th>\n",
       "      <th>all people C</th>\n",
       "    </tr>\n",
       "  </thead>\n",
       "  <tbody>\n",
       "    <tr>\n",
       "      <td>0</td>\n",
       "      <td>2</td>\n",
       "      <td>edulow &amp; voc</td>\n",
       "      <td>18-39</td>\n",
       "      <td>-0.181194</td>\n",
       "      <td>0.260991</td>\n",
       "      <td>47</td>\n",
       "      <td>31</td>\n",
       "    </tr>\n",
       "    <tr>\n",
       "      <td>1</td>\n",
       "      <td>3</td>\n",
       "      <td>eduhigh</td>\n",
       "      <td>18-39</td>\n",
       "      <td>-0.107833</td>\n",
       "      <td>0.158846</td>\n",
       "      <td>126</td>\n",
       "      <td>92</td>\n",
       "    </tr>\n",
       "    <tr>\n",
       "      <td>2</td>\n",
       "      <td>2</td>\n",
       "      <td>edulow &amp; voc</td>\n",
       "      <td>40-69</td>\n",
       "      <td>0.045928</td>\n",
       "      <td>0.188122</td>\n",
       "      <td>66</td>\n",
       "      <td>64</td>\n",
       "    </tr>\n",
       "    <tr>\n",
       "      <td>3</td>\n",
       "      <td>3</td>\n",
       "      <td>eduhigh</td>\n",
       "      <td>40-69</td>\n",
       "      <td>0.100580</td>\n",
       "      <td>0.151079</td>\n",
       "      <td>111</td>\n",
       "      <td>73</td>\n",
       "    </tr>\n",
       "  </tbody>\n",
       "</table>\n",
       "</div>"
      ],
      "text/plain": [
       "  edu         edubin agebin  avg. change  margin of error all people T  \\\n",
       "0   2  edulow & voc   18-39    -0.181194         0.260991           47   \n",
       "1   3        eduhigh  18-39    -0.107833         0.158846          126   \n",
       "2   2  edulow & voc   40-69     0.045928         0.188122           66   \n",
       "3   3        eduhigh  40-69     0.100580         0.151079          111   \n",
       "\n",
       "  all people C  \n",
       "0           31  \n",
       "1           92  \n",
       "2           64  \n",
       "3           73  "
      ]
     },
     "execution_count": 14,
     "metadata": {},
     "output_type": "execute_result"
    }
   ],
   "source": [
    "#avg. change chart with binning by age AND edu for GROUP or INDIVIDUAL - CONTROL\n",
    "eduANDageGroupSubtracted = pd.DataFrame(columns = ['edu', 'edubin', 'agebin', 'avg. change', 'margin of error', 'all people T', 'all people C']) \n",
    "for i in range(4):\n",
    "    education = eduANDageGroup.edu.iloc[i]\n",
    "    educationBin = eduANDageGroup.edubin.iloc[i]\n",
    "    ageBin = eduANDageGroup.agebin.iloc[i]\n",
    "    diff = eduANDageGroup['avg. change'].iloc[i] - eduANDageGroupControlled['avg. change'].iloc[i]\n",
    "    sdT = eduANDageGroup.sd.iloc[i]\n",
    "    nT = eduANDageGroup['all people'].iloc[i]\n",
    "    sdC = eduANDageGroupControlled.sd.iloc[i]\n",
    "    nC = eduANDageGroupControlled['all people'].iloc[i]\n",
    "    varSum = math.pow(sdT, 2)/nT + math.pow(sdC, 2)/nC\n",
    "    err = 1.96 * math.pow(varSum, 0.5)\n",
    "    eduANDageGroupSubtracted = eduANDageGroupSubtracted.append({'edu':education, 'edubin':educationBin, 'agebin':ageBin, 'avg. change':diff, 'margin of error':err, 'all people T':nT, 'all people C':nC}, ignore_index=True)\n",
    "eduANDageGroupSubtracted"
   ]
  },
  {
   "cell_type": "code",
   "execution_count": 15,
   "metadata": {},
   "outputs": [
    {
     "data": {
      "image/png": "[encoded data removed]",
      "text/plain": [
       "<Figure size 432x288 with 2 Axes>"
      ]
     },
     "metadata": {
      "needs_background": "light"
     },
     "output_type": "display_data"
    }
   ],
   "source": [
    "eduANDageGroupSubtractedGraphing = eduANDageGroupSubtracted.pivot(\"edubin\", \"agebin\", \"avg. change\")\n",
    "ax = sns.heatmap(eduANDageGroupSubtractedGraphing, annot=True)"
   ]
  },
  {
   "cell_type": "code",
   "execution_count": null,
   "metadata": {},
   "outputs": [],
   "source": []
  },
  {
   "cell_type": "code",
   "execution_count": null,
   "metadata": {},
   "outputs": [],
   "source": []
  }
 ],
 "metadata": {
  "kernelspec": {
   "display_name": "Python 3",
   "language": "python",
   "name": "python3"
  },
  "language_info": {
   "codemirror_mode": {
    "name": "ipython",
    "version": 3
   },
   "file_extension": ".py",
   "mimetype": "text/x-python",
   "name": "python",
   "nbconvert_exporter": "python",
   "pygments_lexer": "ipython3",
   "version": "3.6.9"
  }
 },
 "nbformat": 4,
 "nbformat_minor": 2
}
