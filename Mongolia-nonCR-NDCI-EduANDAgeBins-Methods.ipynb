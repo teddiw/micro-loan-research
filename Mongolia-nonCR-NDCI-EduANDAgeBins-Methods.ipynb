{
 "cells": [
  {
   "cell_type": "code",
   "execution_count": 1,
   "metadata": {},
   "outputs": [
    {
     "name": "stdout",
     "output_type": "stream",
     "text": [
      "Populating the interactive namespace from numpy and matplotlib\n"
     ]
    }
   ],
   "source": [
    "%pylab inline\n",
    "\n",
    "import pandas as pd\n",
    "import seaborn as sns\n",
    "import matplotlib.pyplot as plt\n",
    "from mpl_toolkits.mplot3d import Axes3D\n",
    "import seaborn as sns\n",
    "import math\n",
    "\n",
    "from methods import *"
   ]
  },
  {
   "cell_type": "code",
   "execution_count": 2,
   "metadata": {},
   "outputs": [],
   "source": [
    "#Loads files as dataframes\n",
    "data_ent_followup = create_df(\"f_Sections F,G,h - Ent.dta\", \"Analysis files/data/Followup/{0}\")\n",
    "\n",
    "data_edu_baseline = create_df(\"education.dta\", \"Analysis files/data/Baseline/{0}\")\n",
    "\n",
    "data_ent_baseline = create_df(\"Sections F,G,h - Ent.dta\", \"Analysis files/data/Baseline/{0}\")\n",
    "\n",
    "data_age_baseline = create_df(\"personal info.dta\", \"Analysis files/data/Baseline/{0}\")"
   ]
  },
  {
   "cell_type": "code",
   "execution_count": 3,
   "metadata": {},
   "outputs": [
    {
     "name": "stdout",
     "output_type": "stream",
     "text": [
      "Number of households at followup:  961\n",
      "Number of households at adjusted baseline:  961\n",
      "Number of households at followup:  961\n",
      "Number of households at adjusted baseline:  961\n",
      "Number of households at followup:  961\n",
      "Number of households at adjusted baseline:  961\n"
     ]
    }
   ],
   "source": [
    "#Removes attrition from the baseline dataframes\n",
    "updated_edu_baseline = remove_attrition(data_edu_baseline, data_ent_followup)\n",
    "updated_ent_baseline = remove_attrition(data_ent_baseline, data_ent_followup)\n",
    "updated_age_baseline = remove_attrition(data_age_baseline, data_ent_followup)"
   ]
  },
  {
   "cell_type": "code",
   "execution_count": 4,
   "metadata": {},
   "outputs": [],
   "source": [
    "#Creates big array with the desired columns of edu_baseline, ent_baseline, and ent_followup.\n",
    "#Contains the columns specified below.\n",
    "#Corrects NaN values to zero.\n",
    "ent_edu_master = updated_ent_baseline[['treatment_x', 'rescode', 'enterprise', 'soleent']].join(data_ent_followup[['f_enterprise', 'f_soleent']])\n",
    "ent_edu_master = ent_edu_master.join(updated_edu_baseline[[\"edulow\", \"eduvoc\", \"eduhigh\"]])\n",
    "ent_edu_master = ent_edu_master.join(updated_age_baseline[[\"age\"]])\n",
    "ent_edu_master = ent_edu_master.fillna(0)"
   ]
  },
  {
   "cell_type": "code",
   "execution_count": 5,
   "metadata": {},
   "outputs": [
    {
     "name": "stdout",
     "output_type": "stream",
     "text": [
      "0\n",
      "0\n",
      "0\n",
      "465\n",
      "496\n",
      "0\n",
      "0\n",
      "0\n",
      "0\n",
      "0\n"
     ]
    }
   ],
   "source": [
    "#Find number of participants in each age bin\n",
    "ent_edu_master['age'] = ent_edu_master['age'].apply(lambda x: x//10)\n",
    "ent_edu_master.loc[ent_edu_master.age==1, 'age'] = 3\n",
    "ent_edu_master.loc[ent_edu_master.age==2, 'age'] = 3\n",
    "ent_edu_master.loc[ent_edu_master.age==5, 'age'] = 4\n",
    "ent_edu_master.loc[ent_edu_master.age==6, 'age'] = 4\n",
    "\n",
    "for i in range(10):\n",
    "    print(len(ent_edu_master.loc[ent_edu_master['age'] == i, :]))\n",
    "    \n",
    "ageBins = ['18-39', '40-69']\n",
    "\n",
    "for i in range(3, 4):\n",
    "    ent_edu_master.loc[ent_edu_master['age']==i, 'agebin'] = ageBins[i-3]\n",
    "\n"
   ]
  },
  {
   "cell_type": "code",
   "execution_count": 6,
   "metadata": {},
   "outputs": [],
   "source": [
    "#add education column that has a 1,2, or 3 (and soon a 4) to indicate level of edu (or aggregate)\n",
    "ent_edu_master['education'] = ent_edu_master['edulow'] + ent_edu_master['eduvoc'] * 2 + ent_edu_master['eduhigh'] * 3\n",
    "\n",
    "#add difference column \n",
    "ent_edu_master[\"difference\"] = ent_edu_master[\"f_soleent\"] - ent_edu_master[\"soleent\"]\n"
   ]
  },
  {
   "cell_type": "code",
   "execution_count": 7,
   "metadata": {},
   "outputs": [
    {
     "data": {
      "text/html": [
       "<div>\n",
       "<style scoped>\n",
       "    .dataframe tbody tr th:only-of-type {\n",
       "        vertical-align: middle;\n",
       "    }\n",
       "\n",
       "    .dataframe tbody tr th {\n",
       "        vertical-align: top;\n",
       "    }\n",
       "\n",
       "    .dataframe thead th {\n",
       "        text-align: right;\n",
       "    }\n",
       "</style>\n",
       "<table border=\"1\" class=\"dataframe\">\n",
       "  <thead>\n",
       "    <tr style=\"text-align: right;\">\n",
       "      <th></th>\n",
       "      <th>treatment_x</th>\n",
       "      <th>rescode</th>\n",
       "      <th>enterprise</th>\n",
       "      <th>soleent</th>\n",
       "      <th>f_enterprise</th>\n",
       "      <th>f_soleent</th>\n",
       "      <th>edulow</th>\n",
       "      <th>eduvoc</th>\n",
       "      <th>eduhigh</th>\n",
       "      <th>age</th>\n",
       "      <th>agebin</th>\n",
       "      <th>education</th>\n",
       "      <th>difference</th>\n",
       "    </tr>\n",
       "  </thead>\n",
       "  <tbody>\n",
       "    <tr>\n",
       "      <td>0</td>\n",
       "      <td>0.0</td>\n",
       "      <td>11101</td>\n",
       "      <td>1</td>\n",
       "      <td>1.0</td>\n",
       "      <td>1</td>\n",
       "      <td>1.0</td>\n",
       "      <td>0.0</td>\n",
       "      <td>0.0</td>\n",
       "      <td>1.0</td>\n",
       "      <td>4.0</td>\n",
       "      <td>NaN</td>\n",
       "      <td>3.0</td>\n",
       "      <td>0.0</td>\n",
       "    </tr>\n",
       "    <tr>\n",
       "      <td>1</td>\n",
       "      <td>0.0</td>\n",
       "      <td>11102</td>\n",
       "      <td>1</td>\n",
       "      <td>1.0</td>\n",
       "      <td>0</td>\n",
       "      <td>0.0</td>\n",
       "      <td>0.0</td>\n",
       "      <td>0.0</td>\n",
       "      <td>1.0</td>\n",
       "      <td>4.0</td>\n",
       "      <td>NaN</td>\n",
       "      <td>3.0</td>\n",
       "      <td>-1.0</td>\n",
       "    </tr>\n",
       "    <tr>\n",
       "      <td>2</td>\n",
       "      <td>0.0</td>\n",
       "      <td>11103</td>\n",
       "      <td>1</td>\n",
       "      <td>1.0</td>\n",
       "      <td>0</td>\n",
       "      <td>0.0</td>\n",
       "      <td>0.0</td>\n",
       "      <td>0.0</td>\n",
       "      <td>1.0</td>\n",
       "      <td>4.0</td>\n",
       "      <td>NaN</td>\n",
       "      <td>3.0</td>\n",
       "      <td>-1.0</td>\n",
       "    </tr>\n",
       "    <tr>\n",
       "      <td>3</td>\n",
       "      <td>0.0</td>\n",
       "      <td>11201</td>\n",
       "      <td>0</td>\n",
       "      <td>0.0</td>\n",
       "      <td>1</td>\n",
       "      <td>0.0</td>\n",
       "      <td>0.0</td>\n",
       "      <td>0.0</td>\n",
       "      <td>1.0</td>\n",
       "      <td>3.0</td>\n",
       "      <td>18-39</td>\n",
       "      <td>3.0</td>\n",
       "      <td>0.0</td>\n",
       "    </tr>\n",
       "    <tr>\n",
       "      <td>4</td>\n",
       "      <td>0.0</td>\n",
       "      <td>11203</td>\n",
       "      <td>1</td>\n",
       "      <td>1.0</td>\n",
       "      <td>1</td>\n",
       "      <td>0.0</td>\n",
       "      <td>1.0</td>\n",
       "      <td>0.0</td>\n",
       "      <td>0.0</td>\n",
       "      <td>3.0</td>\n",
       "      <td>18-39</td>\n",
       "      <td>1.0</td>\n",
       "      <td>-1.0</td>\n",
       "    </tr>\n",
       "    <tr>\n",
       "      <td>...</td>\n",
       "      <td>...</td>\n",
       "      <td>...</td>\n",
       "      <td>...</td>\n",
       "      <td>...</td>\n",
       "      <td>...</td>\n",
       "      <td>...</td>\n",
       "      <td>...</td>\n",
       "      <td>...</td>\n",
       "      <td>...</td>\n",
       "      <td>...</td>\n",
       "      <td>...</td>\n",
       "      <td>...</td>\n",
       "      <td>...</td>\n",
       "    </tr>\n",
       "    <tr>\n",
       "      <td>956</td>\n",
       "      <td>1.0</td>\n",
       "      <td>55604</td>\n",
       "      <td>1</td>\n",
       "      <td>0.0</td>\n",
       "      <td>0</td>\n",
       "      <td>0.0</td>\n",
       "      <td>0.0</td>\n",
       "      <td>0.0</td>\n",
       "      <td>1.0</td>\n",
       "      <td>3.0</td>\n",
       "      <td>18-39</td>\n",
       "      <td>3.0</td>\n",
       "      <td>0.0</td>\n",
       "    </tr>\n",
       "    <tr>\n",
       "      <td>957</td>\n",
       "      <td>1.0</td>\n",
       "      <td>55605</td>\n",
       "      <td>1</td>\n",
       "      <td>1.0</td>\n",
       "      <td>0</td>\n",
       "      <td>0.0</td>\n",
       "      <td>0.0</td>\n",
       "      <td>0.0</td>\n",
       "      <td>1.0</td>\n",
       "      <td>4.0</td>\n",
       "      <td>NaN</td>\n",
       "      <td>3.0</td>\n",
       "      <td>-1.0</td>\n",
       "    </tr>\n",
       "    <tr>\n",
       "      <td>958</td>\n",
       "      <td>1.0</td>\n",
       "      <td>55608</td>\n",
       "      <td>1</td>\n",
       "      <td>1.0</td>\n",
       "      <td>0</td>\n",
       "      <td>0.0</td>\n",
       "      <td>0.0</td>\n",
       "      <td>0.0</td>\n",
       "      <td>1.0</td>\n",
       "      <td>3.0</td>\n",
       "      <td>18-39</td>\n",
       "      <td>3.0</td>\n",
       "      <td>-1.0</td>\n",
       "    </tr>\n",
       "    <tr>\n",
       "      <td>959</td>\n",
       "      <td>1.0</td>\n",
       "      <td>55703</td>\n",
       "      <td>0</td>\n",
       "      <td>0.0</td>\n",
       "      <td>0</td>\n",
       "      <td>0.0</td>\n",
       "      <td>0.0</td>\n",
       "      <td>1.0</td>\n",
       "      <td>0.0</td>\n",
       "      <td>4.0</td>\n",
       "      <td>NaN</td>\n",
       "      <td>2.0</td>\n",
       "      <td>0.0</td>\n",
       "    </tr>\n",
       "    <tr>\n",
       "      <td>960</td>\n",
       "      <td>1.0</td>\n",
       "      <td>55704</td>\n",
       "      <td>1</td>\n",
       "      <td>1.0</td>\n",
       "      <td>0</td>\n",
       "      <td>0.0</td>\n",
       "      <td>0.0</td>\n",
       "      <td>1.0</td>\n",
       "      <td>0.0</td>\n",
       "      <td>4.0</td>\n",
       "      <td>NaN</td>\n",
       "      <td>2.0</td>\n",
       "      <td>-1.0</td>\n",
       "    </tr>\n",
       "  </tbody>\n",
       "</table>\n",
       "<p>961 rows × 13 columns</p>\n",
       "</div>"
      ],
      "text/plain": [
       "     treatment_x  rescode  enterprise  soleent  f_enterprise  f_soleent  \\\n",
       "0            0.0    11101           1      1.0             1        1.0   \n",
       "1            0.0    11102           1      1.0             0        0.0   \n",
       "2            0.0    11103           1      1.0             0        0.0   \n",
       "3            0.0    11201           0      0.0             1        0.0   \n",
       "4            0.0    11203           1      1.0             1        0.0   \n",
       "..           ...      ...         ...      ...           ...        ...   \n",
       "956          1.0    55604           1      0.0             0        0.0   \n",
       "957          1.0    55605           1      1.0             0        0.0   \n",
       "958          1.0    55608           1      1.0             0        0.0   \n",
       "959          1.0    55703           0      0.0             0        0.0   \n",
       "960          1.0    55704           1      1.0             0        0.0   \n",
       "\n",
       "     edulow  eduvoc  eduhigh  age agebin  education  difference  \n",
       "0       0.0     0.0      1.0  4.0    NaN        3.0         0.0  \n",
       "1       0.0     0.0      1.0  4.0    NaN        3.0        -1.0  \n",
       "2       0.0     0.0      1.0  4.0    NaN        3.0        -1.0  \n",
       "3       0.0     0.0      1.0  3.0  18-39        3.0         0.0  \n",
       "4       1.0     0.0      0.0  3.0  18-39        1.0        -1.0  \n",
       "..      ...     ...      ...  ...    ...        ...         ...  \n",
       "956     0.0     0.0      1.0  3.0  18-39        3.0         0.0  \n",
       "957     0.0     0.0      1.0  4.0    NaN        3.0        -1.0  \n",
       "958     0.0     0.0      1.0  3.0  18-39        3.0        -1.0  \n",
       "959     0.0     1.0      0.0  4.0    NaN        2.0         0.0  \n",
       "960     0.0     1.0      0.0  4.0    NaN        2.0        -1.0  \n",
       "\n",
       "[961 rows x 13 columns]"
      ]
     },
     "execution_count": 7,
     "metadata": {},
     "output_type": "execute_result"
    }
   ],
   "source": [
    "ent_edu_master"
   ]
  },
  {
   "cell_type": "code",
   "execution_count": 8,
   "metadata": {},
   "outputs": [
    {
     "name": "stdout",
     "output_type": "stream",
     "text": [
      "rescode treatment_x enterprise soleent f_enterprise f_soleent edulow eduvoc eduhigh baselineOrFollowup education\n"
     ]
    }
   ],
   "source": [
    "#Creates new data frame with twice as many rows (first set for baseline, second for followup) \n",
    "ent_edu_graphing = ent_edu_master.copy();\n",
    "\n",
    "ent_edu_graphing[\"difference\"] = ent_edu_graphing[\"f_soleent\"] - ent_edu_graphing[\"soleent\"]\n",
    "\n",
    "#append ent_edu_graphing to itself with an education value of 4 and an age value of 10 in order to get aggregate of all edu types and age bins\n",
    "copyDF = ent_edu_graphing.copy()\n",
    "copyDF[\"education\"] = 4\n",
    "copyDF[\"age\"] = 10\n",
    "ent_edu_graphing = ent_edu_graphing.append(copyDF, ignore_index=True, sort=False)\n",
    "\n",
    "print('rescode treatment_x enterprise soleent f_enterprise f_soleent edulow eduvoc eduhigh baselineOrFollowup education')"
   ]
  },
  {
   "cell_type": "code",
   "execution_count": 9,
   "metadata": {},
   "outputs": [],
   "source": [
    "#ent_edu_graphing"
   ]
  },
  {
   "cell_type": "code",
   "execution_count": 10,
   "metadata": {},
   "outputs": [],
   "source": [
    "treatment = 2"
   ]
  },
  {
   "cell_type": "code",
   "execution_count": 11,
   "metadata": {},
   "outputs": [],
   "source": [
    "#pass in the master df NOT CURRENTLY BEING USED\n",
    "def ci_BP(df, educationOrAge, specificBin, treatment):\n",
    "    p_hat = 0.5 \n",
    "    z = 1.96 #for 95% confidence\n",
    "    if (specificBin == 'all'):\n",
    "        n = len(df[(df[\"treatment_x\"] == treatment)])\n",
    "    else:\n",
    "        n = len(df[(df[\"treatment_x\"] == treatment) & (df[educationOrAge] == specificBin)])       \n",
    "    return z * math.pow((p_hat*(1-p_hat))/n, 0.5)\n",
    "    "
   ]
  },
  {
   "cell_type": "code",
   "execution_count": 12,
   "metadata": {},
   "outputs": [],
   "source": [
    "def mean(column):\n",
    "    sum = column.sum()\n",
    "    length = len(column)\n",
    "    return sum/length\n",
    "\n",
    "def sd(column, mean):\n",
    "    sum = 0\n",
    "    for i in range(len(column)):\n",
    "        sum = sum + math.pow(column.iloc[i] - mean, 2)\n",
    "    return math.pow(sum/len(column), 0.5)\n",
    "\n",
    "def ci_ND(column):\n",
    "    mean_ = mean(column)\n",
    "    sd_ = sd(column, mean_)\n",
    "    return (1.96*sd_)/math.pow(len(column), 0.5)"
   ]
  },
  {
   "cell_type": "code",
   "execution_count": 13,
   "metadata": {},
   "outputs": [
    {
     "data": {
      "text/html": [
       "<div>\n",
       "<style scoped>\n",
       "    .dataframe tbody tr th:only-of-type {\n",
       "        vertical-align: middle;\n",
       "    }\n",
       "\n",
       "    .dataframe tbody tr th {\n",
       "        vertical-align: top;\n",
       "    }\n",
       "\n",
       "    .dataframe thead th {\n",
       "        text-align: right;\n",
       "    }\n",
       "</style>\n",
       "<table border=\"1\" class=\"dataframe\">\n",
       "  <thead>\n",
       "    <tr style=\"text-align: right;\">\n",
       "      <th></th>\n",
       "      <th>soleent_diff</th>\n",
       "      <th>error</th>\n",
       "      <th>edu</th>\n",
       "      <th>n</th>\n",
       "      <th>edubin</th>\n",
       "    </tr>\n",
       "  </thead>\n",
       "  <tbody>\n",
       "    <tr>\n",
       "      <td>0</td>\n",
       "      <td>0.263158</td>\n",
       "      <td>0.173909</td>\n",
       "      <td>1.0</td>\n",
       "      <td>38.0</td>\n",
       "      <td>low</td>\n",
       "    </tr>\n",
       "    <tr>\n",
       "      <td>1</td>\n",
       "      <td>0.166667</td>\n",
       "      <td>0.144046</td>\n",
       "      <td>2.0</td>\n",
       "      <td>72.0</td>\n",
       "      <td>voc</td>\n",
       "    </tr>\n",
       "    <tr>\n",
       "      <td>2</td>\n",
       "      <td>0.049793</td>\n",
       "      <td>0.067753</td>\n",
       "      <td>3.0</td>\n",
       "      <td>241.0</td>\n",
       "      <td>high</td>\n",
       "    </tr>\n",
       "    <tr>\n",
       "      <td>3</td>\n",
       "      <td>0.096866</td>\n",
       "      <td>0.058754</td>\n",
       "      <td>4.0</td>\n",
       "      <td>351.0</td>\n",
       "      <td>agg</td>\n",
       "    </tr>\n",
       "  </tbody>\n",
       "</table>\n",
       "</div>"
      ],
      "text/plain": [
       "   soleent_diff     error  edu      n edubin\n",
       "0      0.263158  0.173909  1.0   38.0    low\n",
       "1      0.166667  0.144046  2.0   72.0    voc\n",
       "2      0.049793  0.067753  3.0  241.0   high\n",
       "3      0.096866  0.058754  4.0  351.0    agg"
      ]
     },
     "execution_count": 13,
     "metadata": {},
     "output_type": "execute_result"
    }
   ],
   "source": [
    "#edu with THREE different categories (edulow, eduvoc, eduhigh)\n",
    "counted_edu_graphing = pd.DataFrame(columns=['soleent_diff', 'error', 'edu', 'n'])\n",
    "for i in range(1, 4):\n",
    "    difference_count = ent_edu_master[(ent_edu_master.education == i) & (ent_edu_master.treatment_x == treatment)].difference.sum()\n",
    "    total_count = len(ent_edu_master[(ent_edu_master.education == i) & (ent_edu_master.treatment_x == treatment)])\n",
    "    #change error calculation !!!!!!!!!!!\n",
    "    error = ci_ND(ent_edu_master[(ent_edu_master.education == i) & (ent_edu_master.treatment_x == treatment)].difference)\n",
    "    counted_edu_graphing = counted_edu_graphing.append({'soleent_diff': difference_count/total_count, 'error': error, 'edu': i, 'n':total_count}, ignore_index=True)\n",
    "    \n",
    "error = ci_ND(ent_edu_master[(ent_edu_master.treatment_x == treatment)].difference)\n",
    "difference_count = ent_edu_master[ent_edu_master.treatment_x == treatment].difference.sum()\n",
    "total_count = len(ent_edu_master[ent_edu_master.treatment_x == treatment])\n",
    "counted_edu_graphing = counted_edu_graphing.append({'soleent_diff': difference_count/total_count, 'error': error, 'edu': 4, 'n':total_count}, ignore_index=True)  \n",
    "\n",
    "eduBins = ['low', 'voc', 'high', 'agg']\n",
    "\n",
    "for i in range(4):\n",
    "    counted_edu_graphing.loc[counted_edu_graphing.index==i, 'edubin'] = eduBins[i]\n",
    "\n",
    "counted_edu_graphing\n",
    "\n"
   ]
  },
  {
   "cell_type": "code",
   "execution_count": 14,
   "metadata": {},
   "outputs": [
    {
     "data": {
      "text/plain": [
       "<ErrorbarContainer object of 3 artists>"
      ]
     },
     "execution_count": 14,
     "metadata": {},
     "output_type": "execute_result"
    },
    {
     "data": {
      "image/png": "[encoded data removed]",
      "text/plain": [
       "<Figure size 432x288 with 1 Axes>"
      ]
     },
     "metadata": {
      "needs_background": "light"
     },
     "output_type": "display_data"
    }
   ],
   "source": [
    "ax = sns.barplot(x='edubin', y=\"soleent_diff\", data=counted_edu_graphing, ci=None)\n",
    "\n",
    "ax.errorbar(x=counted_edu_graphing['edubin'],y=counted_edu_graphing['soleent_diff'], yerr=counted_edu_graphing['error'], fmt='none', c='r')"
   ]
  },
  {
   "cell_type": "code",
   "execution_count": 15,
   "metadata": {},
   "outputs": [
    {
     "data": {
      "text/html": [
       "<div>\n",
       "<style scoped>\n",
       "    .dataframe tbody tr th:only-of-type {\n",
       "        vertical-align: middle;\n",
       "    }\n",
       "\n",
       "    .dataframe tbody tr th {\n",
       "        vertical-align: top;\n",
       "    }\n",
       "\n",
       "    .dataframe thead th {\n",
       "        text-align: right;\n",
       "    }\n",
       "</style>\n",
       "<table border=\"1\" class=\"dataframe\">\n",
       "  <thead>\n",
       "    <tr style=\"text-align: right;\">\n",
       "      <th></th>\n",
       "      <th>soleent_diff</th>\n",
       "      <th>error</th>\n",
       "      <th>edu</th>\n",
       "      <th>n</th>\n",
       "      <th>edubin</th>\n",
       "    </tr>\n",
       "  </thead>\n",
       "  <tbody>\n",
       "    <tr>\n",
       "      <td>0</td>\n",
       "      <td>0.200000</td>\n",
       "      <td>0.112127</td>\n",
       "      <td>2.0</td>\n",
       "      <td>110.0</td>\n",
       "      <td>low&amp;voc</td>\n",
       "    </tr>\n",
       "    <tr>\n",
       "      <td>1</td>\n",
       "      <td>0.049793</td>\n",
       "      <td>0.067753</td>\n",
       "      <td>3.0</td>\n",
       "      <td>241.0</td>\n",
       "      <td>high</td>\n",
       "    </tr>\n",
       "    <tr>\n",
       "      <td>2</td>\n",
       "      <td>0.096866</td>\n",
       "      <td>0.058754</td>\n",
       "      <td>4.0</td>\n",
       "      <td>351.0</td>\n",
       "      <td>agg</td>\n",
       "    </tr>\n",
       "  </tbody>\n",
       "</table>\n",
       "</div>"
      ],
      "text/plain": [
       "   soleent_diff     error  edu      n   edubin\n",
       "0      0.200000  0.112127  2.0  110.0  low&voc\n",
       "1      0.049793  0.067753  3.0  241.0     high\n",
       "2      0.096866  0.058754  4.0  351.0      agg"
      ]
     },
     "execution_count": 15,
     "metadata": {},
     "output_type": "execute_result"
    }
   ],
   "source": [
    "#edu with TWO different categories (edulow &eduvoc, eduhigh)\n",
    "counted_edu2_graphing = pd.DataFrame(columns=['soleent_diff', 'error', 'edu', 'n'])\n",
    "ent_edu_master2 = ent_edu_master.copy()\n",
    "ent_edu_master2.loc[ent_edu_master2.education == 1, 'education'] = 2\n",
    "\n",
    "for i in range(2, 4):\n",
    "    difference_count = ent_edu_master2[(ent_edu_master2.education == i) & (ent_edu_master2.treatment_x == treatment)].difference.sum()\n",
    "    total_count = len(ent_edu_master2[(ent_edu_master2.education == i) & (ent_edu_master2.treatment_x == treatment)])\n",
    "    #change this error calculation !!!!!!\n",
    "    error = ci_ND(ent_edu_master2[(ent_edu_master2.education == i) & (ent_edu_master2.treatment_x == treatment)].difference)\n",
    "    counted_edu2_graphing = counted_edu2_graphing.append({'soleent_diff': difference_count/total_count, 'error': error, 'edu': i, 'n':total_count}, ignore_index=True)\n",
    "    \n",
    "error = ci_ND(ent_edu_master2[(ent_edu_master2.treatment_x == treatment)].difference)\n",
    "difference_count = ent_edu_master2[ent_edu_master2.treatment_x == treatment].difference.sum()\n",
    "total_count = len(ent_edu_master2[ent_edu_master2.treatment_x == treatment])\n",
    "counted_edu2_graphing = counted_edu2_graphing.append({'soleent_diff': difference_count/total_count, 'error': error, 'edu': 4, 'n':total_count}, ignore_index=True)  \n",
    "\n",
    "eduBins = ['low&voc', 'high', 'agg']\n",
    "\n",
    "for i in range(3):\n",
    "    counted_edu2_graphing.loc[counted_edu2_graphing.index==i, 'edubin'] = eduBins[i]\n",
    "\n",
    "counted_edu2_graphing"
   ]
  },
  {
   "cell_type": "code",
   "execution_count": 16,
   "metadata": {},
   "outputs": [
    {
     "data": {
      "text/plain": [
       "<ErrorbarContainer object of 3 artists>"
      ]
     },
     "execution_count": 16,
     "metadata": {},
     "output_type": "execute_result"
    },
    {
     "data": {
      "image/png": "[encoded data removed]",
      "text/plain": [
       "<Figure size 432x288 with 1 Axes>"
      ]
     },
     "metadata": {
      "needs_background": "light"
     },
     "output_type": "display_data"
    }
   ],
   "source": [
    "ax = sns.barplot(x='edubin', y=\"soleent_diff\", data=counted_edu2_graphing, ci=None)\n",
    "\n",
    "ax.errorbar(x=counted_edu2_graphing['edubin'],y=counted_edu2_graphing['soleent_diff'], yerr=counted_edu2_graphing['error'], fmt='none', c='r')"
   ]
  },
  {
   "cell_type": "code",
   "execution_count": 17,
   "metadata": {},
   "outputs": [
    {
     "data": {
      "text/html": [
       "<div>\n",
       "<style scoped>\n",
       "    .dataframe tbody tr th:only-of-type {\n",
       "        vertical-align: middle;\n",
       "    }\n",
       "\n",
       "    .dataframe tbody tr th {\n",
       "        vertical-align: top;\n",
       "    }\n",
       "\n",
       "    .dataframe thead th {\n",
       "        text-align: right;\n",
       "    }\n",
       "</style>\n",
       "<table border=\"1\" class=\"dataframe\">\n",
       "  <thead>\n",
       "    <tr style=\"text-align: right;\">\n",
       "      <th></th>\n",
       "      <th>soleent_diff</th>\n",
       "      <th>error</th>\n",
       "      <th>age</th>\n",
       "      <th>agebin</th>\n",
       "      <th>n</th>\n",
       "    </tr>\n",
       "  </thead>\n",
       "  <tbody>\n",
       "    <tr>\n",
       "      <td>0</td>\n",
       "      <td>0.142012</td>\n",
       "      <td>0.087246</td>\n",
       "      <td>3.0</td>\n",
       "      <td>18-39</td>\n",
       "      <td>169.0</td>\n",
       "    </tr>\n",
       "    <tr>\n",
       "      <td>1</td>\n",
       "      <td>0.054945</td>\n",
       "      <td>0.078734</td>\n",
       "      <td>4.0</td>\n",
       "      <td>40-69</td>\n",
       "      <td>182.0</td>\n",
       "    </tr>\n",
       "    <tr>\n",
       "      <td>2</td>\n",
       "      <td>0.096866</td>\n",
       "      <td>0.058754</td>\n",
       "      <td>10.0</td>\n",
       "      <td>agg</td>\n",
       "      <td>351.0</td>\n",
       "    </tr>\n",
       "  </tbody>\n",
       "</table>\n",
       "</div>"
      ],
      "text/plain": [
       "   soleent_diff     error   age agebin      n\n",
       "0      0.142012  0.087246   3.0  18-39  169.0\n",
       "1      0.054945  0.078734   4.0  40-69  182.0\n",
       "2      0.096866  0.058754  10.0    agg  351.0"
      ]
     },
     "execution_count": 17,
     "metadata": {},
     "output_type": "execute_result"
    }
   ],
   "source": [
    "#age\n",
    "\n",
    "counted_age_graphing = pd.DataFrame(columns=['soleent_diff', 'error', 'age', 'agebin', 'n'])\n",
    "for i in range(3, 5):\n",
    "    difference_count = ent_edu_master[(ent_edu_master.age == i) & (ent_edu_master.treatment_x == treatment)].difference.sum()\n",
    "    total_count = len(ent_edu_master[(ent_edu_master.age == i) & (ent_edu_master.treatment_x == treatment)])\n",
    "    #change error calculation\n",
    "    error = ci_ND(ent_edu_master[(ent_edu_master.age == i) & (ent_edu_master.treatment_x == treatment)].difference)\n",
    "    counted_age_graphing = counted_age_graphing.append({'soleent_diff': difference_count/total_count, 'error': error, 'age': i, 'n':total_count}, ignore_index=True)\n",
    "    \n",
    "error = ci_ND(ent_edu_master[(ent_edu_master.treatment_x == treatment)].difference)\n",
    "difference_count = ent_edu_master[ent_edu_master.treatment_x == treatment].difference.sum()\n",
    "total_count = len(ent_edu_master[ent_edu_master.treatment_x == treatment])\n",
    "counted_age_graphing = counted_age_graphing.append({'soleent_diff': difference_count/total_count, 'error': error, 'age': 10, 'n':total_count}, ignore_index=True)  \n",
    "\n",
    "ageBins = ['18-39', '40-69', 'agg']\n",
    "\n",
    "for i in range(3):\n",
    "    counted_age_graphing.loc[counted_age_graphing.index==i, 'agebin'] = ageBins[i]\n",
    "\n",
    "counted_age_graphing\n",
    "\n",
    "\n"
   ]
  },
  {
   "cell_type": "code",
   "execution_count": 18,
   "metadata": {},
   "outputs": [
    {
     "data": {
      "text/plain": [
       "<ErrorbarContainer object of 3 artists>"
      ]
     },
     "execution_count": 18,
     "metadata": {},
     "output_type": "execute_result"
    },
    {
     "data": {
      "image/png": "[encoded data removed]",
      "text/plain": [
       "<Figure size 432x288 with 1 Axes>"
      ]
     },
     "metadata": {
      "needs_background": "light"
     },
     "output_type": "display_data"
    }
   ],
   "source": [
    "ax = sns.barplot(x='agebin', y=\"soleent_diff\", data=counted_age_graphing, ci=None)\n",
    "\n",
    "ax.errorbar(x=counted_age_graphing['agebin'],y=counted_age_graphing['soleent_diff'], yerr=counted_age_graphing['error'], fmt='none', c='r')"
   ]
  },
  {
   "cell_type": "code",
   "execution_count": 19,
   "metadata": {},
   "outputs": [],
   "source": [
    "#ax = sns.barplot(x='education', y=\"combined_enterprise\", hue=\"baselineOrFollowup\", data=ent_edu_graphing[ent_edu_graphing['treatment_x']==treatment], ci=None)\n"
   ]
  },
  {
   "cell_type": "code",
   "execution_count": 20,
   "metadata": {},
   "outputs": [],
   "source": [
    "#ax = sns.barplot(x='education', y=\"combined_enterprise\", hue=\"baselineOrFollowup\", data=ent_edu_graphing[ent_edu_graphing['treatment_x']==treatment], ci=None)\n",
    "\n",
    "\n",
    "#ax.errorbar(x=ent_edu_graphing['education'],y=ent_edu_graphing['combined_enterprise'], yerr=yerrDF, fmt='none', c='r')"
   ]
  },
  {
   "cell_type": "code",
   "execution_count": 21,
   "metadata": {},
   "outputs": [],
   "source": [
    "#plt.bar(x='education', height='combined_enterprise', data=ent_edu_graphing[ent_edu_graphing['treatment_x']==treatment])"
   ]
  },
  {
   "cell_type": "code",
   "execution_count": null,
   "metadata": {},
   "outputs": [],
   "source": []
  }
 ],
 "metadata": {
  "kernelspec": {
   "display_name": "Python 3",
   "language": "python",
   "name": "python3"
  },
  "language_info": {
   "codemirror_mode": {
    "name": "ipython",
    "version": 3
   },
   "file_extension": ".py",
   "mimetype": "text/x-python",
   "name": "python",
   "nbconvert_exporter": "python",
   "pygments_lexer": "ipython3",
   "version": "3.6.9"
  }
 },
 "nbformat": 4,
 "nbformat_minor": 2
}
