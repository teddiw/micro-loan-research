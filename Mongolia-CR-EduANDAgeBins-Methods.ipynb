{
 "cells": [
  {
   "cell_type": "code",
   "execution_count": 443,
   "metadata": {},
   "outputs": [
    {
     "name": "stdout",
     "output_type": "stream",
     "text": [
      "Populating the interactive namespace from numpy and matplotlib\n"
     ]
    },
    {
     "name": "stderr",
     "output_type": "stream",
     "text": [
      "/Users/teddiworledge/anaconda3/lib/python3.6/site-packages/IPython/core/magics/pylab.py:160: UserWarning: pylab import has clobbered these variables: ['mean']\n",
      "`%matplotlib` prevents importing * from pylab and numpy\n",
      "  \"\\n`%matplotlib` prevents importing * from pylab and numpy\"\n"
     ]
    }
   ],
   "source": [
    "%pylab inline\n",
    "\n",
    "import pandas as pd\n",
    "import seaborn as sns\n",
    "import matplotlib.pyplot as plt\n",
    "from mpl_toolkits.mplot3d import Axes3D\n",
    "import seaborn as sns\n",
    "\n",
    "from methods import *"
   ]
  },
  {
   "cell_type": "code",
   "execution_count": 444,
   "metadata": {},
   "outputs": [],
   "source": [
    "#Loads files as dataframes\n",
    "data_ent_followup = create_df(\"f_Sections F,G,h - Ent.dta\", \"Analysis files/data/Followup/{0}\")\n",
    "\n",
    "data_edu_baseline = create_df(\"education.dta\", \"Analysis files/data/Baseline/{0}\")\n",
    "\n",
    "data_ent_baseline = create_df(\"Sections F,G,h - Ent.dta\", \"Analysis files/data/Baseline/{0}\")\n",
    "\n",
    "data_age_baseline = create_df(\"personal info.dta\", \"Analysis files/data/Baseline/{0}\")"
   ]
  },
  {
   "cell_type": "code",
   "execution_count": 445,
   "metadata": {},
   "outputs": [
    {
     "name": "stdout",
     "output_type": "stream",
     "text": [
      "Number of households at followup:  961\n",
      "Number of households at adjusted baseline:  961\n",
      "Number of households at followup:  961\n",
      "Number of households at adjusted baseline:  961\n",
      "Number of households at followup:  961\n",
      "Number of households at adjusted baseline:  961\n"
     ]
    }
   ],
   "source": [
    "#Removes attrition from the baseline dataframes\n",
    "updated_edu_baseline = remove_attrition(data_edu_baseline, data_ent_followup)\n",
    "updated_ent_baseline = remove_attrition(data_ent_baseline, data_ent_followup)\n",
    "updated_age_baseline = remove_attrition(data_age_baseline, data_ent_followup)"
   ]
  },
  {
   "cell_type": "code",
   "execution_count": 446,
   "metadata": {},
   "outputs": [],
   "source": [
    "#Creates big array with the desired columns of edu_baseline, ent_baseline, and ent_followup.\n",
    "#Contains the columns specified below.\n",
    "#Corrects NaN values to zero.\n",
    "ent_edu_master = updated_ent_baseline[['treatment_x', 'rescode', 'enterprise', 'soleent']].join(data_ent_followup[['f_enterprise', 'f_soleent']])\n",
    "ent_edu_master = ent_edu_master.join(updated_edu_baseline[[\"edulow\", \"eduvoc\", \"eduhigh\"]])\n",
    "ent_edu_master = ent_edu_master.join(updated_age_baseline[[\"age\"]])\n",
    "ent_edu_master = ent_edu_master.fillna(0)"
   ]
  },
  {
   "cell_type": "code",
   "execution_count": 447,
   "metadata": {},
   "outputs": [
    {
     "name": "stdout",
     "output_type": "stream",
     "text": [
      "0\n",
      "0\n",
      "142\n",
      "323\n",
      "354\n",
      "142\n",
      "0\n",
      "0\n",
      "0\n",
      "0\n"
     ]
    }
   ],
   "source": [
    "#Find number of participants in each age bin\n",
    "ent_edu_master['age'] = ent_edu_master['age'].apply(lambda x: x//10)\n",
    "ent_edu_master.loc[ent_edu_master.age==1, 'age'] = 2\n",
    "ent_edu_master.loc[ent_edu_master.age==6, 'age'] = 5\n",
    "\n",
    "for i in range(10):\n",
    "    print(len(ent_edu_master.loc[ent_edu_master['age'] == i, :]))\n",
    "    \n",
    "ageBins = ['18-29', '30-39', '40-49', '50-69']\n",
    "\n",
    "for i in range(2, 6):\n",
    "    ent_edu_master.loc[ent_edu_master['age']==i, 'agebin'] = ageBins[i-2]"
   ]
  },
  {
   "cell_type": "code",
   "execution_count": 448,
   "metadata": {},
   "outputs": [],
   "source": [
    "#control: treatment_x = 0\n",
    "#individual: treatment_x = 1\n",
    "#group: treatment_x = 2"
   ]
  },
  {
   "cell_type": "code",
   "execution_count": 449,
   "metadata": {},
   "outputs": [],
   "source": [
    "#Copy of ent_edu_master for 'conversion rate' analysis, adds edu column, \n",
    "ent_edu_conv = ent_edu_master.copy()\n",
    "ent_edu_conv['edu'] = ent_edu_conv['edulow'] + ent_edu_conv['eduvoc'] * 2 + ent_edu_conv['eduhigh'] * 3\n",
    "treatment = 1\n",
    "POSITIVE = False\n",
    "#ent_edu_conv"
   ]
  },
  {
   "cell_type": "code",
   "execution_count": 450,
   "metadata": {},
   "outputs": [],
   "source": [
    "#CONTROL: Create control ageGroup and eduGroup to use for subtraction\n",
    "if POSITIVE:\n",
    "    ageGroup4Controlled = pd.DataFrame(columns = ['age', 'agebins', 'conv. rate', 'mean', 'all people', 'people w/o BL soleent', 'fraction w/o BL soleent']) \n",
    "else:\n",
    "    ageGroup4Controlled = pd.DataFrame(columns = ['age', 'agebins', 'conv. rate', 'mean', 'all people', 'people w/ BL soleent', 'fraction w/ BL soleent']) \n",
    "    \n",
    "if POSITIVE:\n",
    "    eduGroupControlled = pd.DataFrame(columns = ['edu', 'conv. rate', 'mean', 'all people', 'people w/o BL soleent', 'fraction w/o BL soleent']) \n",
    "else:\n",
    "    eduGroupControlled = pd.DataFrame(columns = ['edu', 'conv. rate', 'mean', 'all people', 'people w/ BL soleent', 'fraction w/ BL soleent']) "
   ]
  },
  {
   "cell_type": "code",
   "execution_count": 451,
   "metadata": {},
   "outputs": [
    {
     "name": "stdout",
     "output_type": "stream",
     "text": [
      "18-29\n",
      "30-39\n",
      "40-49\n",
      "50-69\n"
     ]
    },
    {
     "data": {
      "text/html": [
       "<div>\n",
       "<style scoped>\n",
       "    .dataframe tbody tr th:only-of-type {\n",
       "        vertical-align: middle;\n",
       "    }\n",
       "\n",
       "    .dataframe tbody tr th {\n",
       "        vertical-align: top;\n",
       "    }\n",
       "\n",
       "    .dataframe thead th {\n",
       "        text-align: right;\n",
       "    }\n",
       "</style>\n",
       "<table border=\"1\" class=\"dataframe\">\n",
       "  <thead>\n",
       "    <tr style=\"text-align: right;\">\n",
       "      <th></th>\n",
       "      <th>age</th>\n",
       "      <th>agebins</th>\n",
       "      <th>conv. rate</th>\n",
       "      <th>mean</th>\n",
       "      <th>all people</th>\n",
       "      <th>people w/ BL soleent</th>\n",
       "      <th>fraction w/ BL soleent</th>\n",
       "      <th>agebin</th>\n",
       "    </tr>\n",
       "  </thead>\n",
       "  <tbody>\n",
       "    <tr>\n",
       "      <th>0</th>\n",
       "      <td>2</td>\n",
       "      <td>NaN</td>\n",
       "      <td>0.666667</td>\n",
       "      <td>6.0</td>\n",
       "      <td>34</td>\n",
       "      <td>9</td>\n",
       "      <td>0.264706</td>\n",
       "      <td>18-29</td>\n",
       "    </tr>\n",
       "    <tr>\n",
       "      <th>1</th>\n",
       "      <td>3</td>\n",
       "      <td>NaN</td>\n",
       "      <td>0.424242</td>\n",
       "      <td>14.0</td>\n",
       "      <td>89</td>\n",
       "      <td>33</td>\n",
       "      <td>0.370787</td>\n",
       "      <td>30-39</td>\n",
       "    </tr>\n",
       "    <tr>\n",
       "      <th>2</th>\n",
       "      <td>4</td>\n",
       "      <td>NaN</td>\n",
       "      <td>0.428571</td>\n",
       "      <td>18.0</td>\n",
       "      <td>95</td>\n",
       "      <td>42</td>\n",
       "      <td>0.442105</td>\n",
       "      <td>40-49</td>\n",
       "    </tr>\n",
       "    <tr>\n",
       "      <th>3</th>\n",
       "      <td>5</td>\n",
       "      <td>NaN</td>\n",
       "      <td>0.315789</td>\n",
       "      <td>6.0</td>\n",
       "      <td>42</td>\n",
       "      <td>19</td>\n",
       "      <td>0.452381</td>\n",
       "      <td>50-69</td>\n",
       "    </tr>\n",
       "  </tbody>\n",
       "</table>\n",
       "</div>"
      ],
      "text/plain": [
       "  age  agebins  conv. rate  mean all people people w/ BL soleent  \\\n",
       "0   2      NaN    0.666667   6.0         34                    9   \n",
       "1   3      NaN    0.424242  14.0         89                   33   \n",
       "2   4      NaN    0.428571  18.0         95                   42   \n",
       "3   5      NaN    0.315789   6.0         42                   19   \n",
       "\n",
       "   fraction w/ BL soleent agebin  \n",
       "0                0.264706  18-29  \n",
       "1                0.370787  30-39  \n",
       "2                0.442105  40-49  \n",
       "3                0.452381  50-69  "
      ]
     },
     "execution_count": 451,
     "metadata": {},
     "output_type": "execute_result"
    }
   ],
   "source": [
    "#CONTROL:Conversion rate chart with binning by age only \n",
    "for i in range(2, 6):\n",
    "        ageGroup4Controlled = crTableAge(i, POSITIVE, 0, ent_edu_conv, ageGroup4Controlled)\n",
    "cr = conversionRate(POSITIVE, ent_edu_conv[(ent_edu_conv.treatment_x == 0)])\n",
    "ageGroup4Controlled"
   ]
  },
  {
   "cell_type": "code",
   "execution_count": 452,
   "metadata": {},
   "outputs": [
    {
     "data": {
      "text/html": [
       "<div>\n",
       "<style scoped>\n",
       "    .dataframe tbody tr th:only-of-type {\n",
       "        vertical-align: middle;\n",
       "    }\n",
       "\n",
       "    .dataframe tbody tr th {\n",
       "        vertical-align: top;\n",
       "    }\n",
       "\n",
       "    .dataframe thead th {\n",
       "        text-align: right;\n",
       "    }\n",
       "</style>\n",
       "<table border=\"1\" class=\"dataframe\">\n",
       "  <thead>\n",
       "    <tr style=\"text-align: right;\">\n",
       "      <th></th>\n",
       "      <th>edu</th>\n",
       "      <th>conv. rate</th>\n",
       "      <th>mean</th>\n",
       "      <th>all people</th>\n",
       "      <th>people w/ BL soleent</th>\n",
       "      <th>fraction w/ BL soleent</th>\n",
       "    </tr>\n",
       "  </thead>\n",
       "  <tbody>\n",
       "    <tr>\n",
       "      <th>0</th>\n",
       "      <td>1.0</td>\n",
       "      <td>0.538462</td>\n",
       "      <td>7.0</td>\n",
       "      <td>39.0</td>\n",
       "      <td>13.0</td>\n",
       "      <td>0.333333</td>\n",
       "    </tr>\n",
       "    <tr>\n",
       "      <th>1</th>\n",
       "      <td>2.0</td>\n",
       "      <td>0.421053</td>\n",
       "      <td>8.0</td>\n",
       "      <td>56.0</td>\n",
       "      <td>19.0</td>\n",
       "      <td>0.339286</td>\n",
       "    </tr>\n",
       "    <tr>\n",
       "      <th>2</th>\n",
       "      <td>3.0</td>\n",
       "      <td>0.408451</td>\n",
       "      <td>29.0</td>\n",
       "      <td>165.0</td>\n",
       "      <td>71.0</td>\n",
       "      <td>0.430303</td>\n",
       "    </tr>\n",
       "  </tbody>\n",
       "</table>\n",
       "</div>"
      ],
      "text/plain": [
       "   edu  conv. rate  mean  all people  people w/ BL soleent  \\\n",
       "0  1.0    0.538462   7.0        39.0                  13.0   \n",
       "1  2.0    0.421053   8.0        56.0                  19.0   \n",
       "2  3.0    0.408451  29.0       165.0                  71.0   \n",
       "\n",
       "   fraction w/ BL soleent  \n",
       "0                0.333333  \n",
       "1                0.339286  \n",
       "2                0.430303  "
      ]
     },
     "execution_count": 452,
     "metadata": {},
     "output_type": "execute_result"
    }
   ],
   "source": [
    "#CONTROL: Conversion rate chart with binning by edu only \n",
    "# i, POSITIVE, treatment, ent_edu_conv, ageGroup4\n",
    "for i in range(1, 4):\n",
    "        eduGroupControlled = crTableEdu(i, POSITIVE, 0, ent_edu_conv, eduGroupControlled)\n",
    "cr = conversionRate(POSITIVE, ent_edu_conv[(ent_edu_conv.treatment_x == 0)])\n",
    "eduGroupControlled"
   ]
  },
  {
   "cell_type": "code",
   "execution_count": 453,
   "metadata": {},
   "outputs": [],
   "source": [
    "#creates new data frame for 'conversion rate' analysis by separate age and edu binning\n",
    "if POSITIVE:\n",
    "    ageGroup4 = pd.DataFrame(columns = ['age', 'agebins', 'conv. rate', 'mean', 'all people', 'people w/o BL soleent', 'fraction w/o BL soleent']) \n",
    "else:\n",
    "    ageGroup4 = pd.DataFrame(columns = ['age', 'agebins', 'conv. rate', 'mean', 'all people', 'people w/ BL soleent', 'fraction w/ BL soleent']) \n",
    "    \n",
    "if POSITIVE:\n",
    "    eduGroup = pd.DataFrame(columns = ['edu', 'conv. rate', 'mean', 'all people', 'people w/o BL soleent', 'fraction w/o BL soleent']) \n",
    "else:\n",
    "    eduGroup = pd.DataFrame(columns = ['edu', 'conv. rate', 'mean', 'all people', 'people w/ BL soleent', 'fraction w/ BL soleent']) "
   ]
  },
  {
   "cell_type": "code",
   "execution_count": 454,
   "metadata": {},
   "outputs": [
    {
     "name": "stdout",
     "output_type": "stream",
     "text": [
      "18-29\n",
      "30-39\n",
      "40-49\n",
      "50-69\n",
      "Conversion rate for age group 10 (aggregate) is: 0.40145985401459855\n"
     ]
    },
    {
     "data": {
      "text/html": [
       "<div>\n",
       "<style scoped>\n",
       "    .dataframe tbody tr th:only-of-type {\n",
       "        vertical-align: middle;\n",
       "    }\n",
       "\n",
       "    .dataframe tbody tr th {\n",
       "        vertical-align: top;\n",
       "    }\n",
       "\n",
       "    .dataframe thead th {\n",
       "        text-align: right;\n",
       "    }\n",
       "</style>\n",
       "<table border=\"1\" class=\"dataframe\">\n",
       "  <thead>\n",
       "    <tr style=\"text-align: right;\">\n",
       "      <th></th>\n",
       "      <th>age</th>\n",
       "      <th>agebins</th>\n",
       "      <th>conv. rate</th>\n",
       "      <th>mean</th>\n",
       "      <th>all people</th>\n",
       "      <th>people w/ BL soleent</th>\n",
       "      <th>fraction w/ BL soleent</th>\n",
       "      <th>agebin</th>\n",
       "    </tr>\n",
       "  </thead>\n",
       "  <tbody>\n",
       "    <tr>\n",
       "      <th>0</th>\n",
       "      <td>2</td>\n",
       "      <td>NaN</td>\n",
       "      <td>0.478261</td>\n",
       "      <td>11.0</td>\n",
       "      <td>60</td>\n",
       "      <td>23</td>\n",
       "      <td>0.383333</td>\n",
       "      <td>18-29</td>\n",
       "    </tr>\n",
       "    <tr>\n",
       "      <th>1</th>\n",
       "      <td>3</td>\n",
       "      <td>NaN</td>\n",
       "      <td>0.487805</td>\n",
       "      <td>20.0</td>\n",
       "      <td>113</td>\n",
       "      <td>41</td>\n",
       "      <td>0.362832</td>\n",
       "      <td>30-39</td>\n",
       "    </tr>\n",
       "    <tr>\n",
       "      <th>2</th>\n",
       "      <td>4</td>\n",
       "      <td>NaN</td>\n",
       "      <td>0.301887</td>\n",
       "      <td>16.0</td>\n",
       "      <td>129</td>\n",
       "      <td>53</td>\n",
       "      <td>0.410853</td>\n",
       "      <td>40-49</td>\n",
       "    </tr>\n",
       "    <tr>\n",
       "      <th>3</th>\n",
       "      <td>5</td>\n",
       "      <td>NaN</td>\n",
       "      <td>0.400000</td>\n",
       "      <td>8.0</td>\n",
       "      <td>48</td>\n",
       "      <td>20</td>\n",
       "      <td>0.416667</td>\n",
       "      <td>50-69</td>\n",
       "    </tr>\n",
       "  </tbody>\n",
       "</table>\n",
       "</div>"
      ],
      "text/plain": [
       "  age  agebins  conv. rate  mean all people people w/ BL soleent  \\\n",
       "0   2      NaN    0.478261  11.0         60                   23   \n",
       "1   3      NaN    0.487805  20.0        113                   41   \n",
       "2   4      NaN    0.301887  16.0        129                   53   \n",
       "3   5      NaN    0.400000   8.0         48                   20   \n",
       "\n",
       "   fraction w/ BL soleent agebin  \n",
       "0                0.383333  18-29  \n",
       "1                0.362832  30-39  \n",
       "2                0.410853  40-49  \n",
       "3                0.416667  50-69  "
      ]
     },
     "execution_count": 454,
     "metadata": {},
     "output_type": "execute_result"
    }
   ],
   "source": [
    "#Conversion rate chart with binning by age only \n",
    "for i in range(2, 6):\n",
    "        ageGroup4 = crTableAge(i, POSITIVE, treatment, ent_edu_conv, ageGroup4)\n",
    "cr = conversionRate(POSITIVE, ent_edu_conv[(ent_edu_conv.treatment_x == treatment)])\n",
    "print(\"Conversion rate for age group 10 (aggregate) is:\", cr)\n",
    "ageGroup4"
   ]
  },
  {
   "cell_type": "code",
   "execution_count": 455,
   "metadata": {},
   "outputs": [
    {
     "data": {
      "image/png": "[encoded data removed]",
      "text/plain": [
       "<Figure size 432x288 with 1 Axes>"
      ]
     },
     "metadata": {},
     "output_type": "display_data"
    }
   ],
   "source": [
    "#age graph (not controlled)\n",
    "ax = sns.barplot(x=\"agebin\", y=\"conv. rate\", data=ageGroup4)"
   ]
  },
  {
   "cell_type": "code",
   "execution_count": 456,
   "metadata": {},
   "outputs": [
    {
     "name": "stdout",
     "output_type": "stream",
     "text": [
      "Conversion rate for edu level 4 (aggregate) is: 0.40145985401459855\n"
     ]
    },
    {
     "data": {
      "text/html": [
       "<div>\n",
       "<style scoped>\n",
       "    .dataframe tbody tr th:only-of-type {\n",
       "        vertical-align: middle;\n",
       "    }\n",
       "\n",
       "    .dataframe tbody tr th {\n",
       "        vertical-align: top;\n",
       "    }\n",
       "\n",
       "    .dataframe thead th {\n",
       "        text-align: right;\n",
       "    }\n",
       "</style>\n",
       "<table border=\"1\" class=\"dataframe\">\n",
       "  <thead>\n",
       "    <tr style=\"text-align: right;\">\n",
       "      <th></th>\n",
       "      <th>edu</th>\n",
       "      <th>conv. rate</th>\n",
       "      <th>mean</th>\n",
       "      <th>all people</th>\n",
       "      <th>people w/ BL soleent</th>\n",
       "      <th>fraction w/ BL soleent</th>\n",
       "    </tr>\n",
       "  </thead>\n",
       "  <tbody>\n",
       "    <tr>\n",
       "      <th>0</th>\n",
       "      <td>1.0</td>\n",
       "      <td>0.578947</td>\n",
       "      <td>11.0</td>\n",
       "      <td>48.0</td>\n",
       "      <td>19.0</td>\n",
       "      <td>0.395833</td>\n",
       "    </tr>\n",
       "    <tr>\n",
       "      <th>1</th>\n",
       "      <td>2.0</td>\n",
       "      <td>0.346154</td>\n",
       "      <td>9.0</td>\n",
       "      <td>65.0</td>\n",
       "      <td>26.0</td>\n",
       "      <td>0.400000</td>\n",
       "    </tr>\n",
       "    <tr>\n",
       "      <th>2</th>\n",
       "      <td>3.0</td>\n",
       "      <td>0.380435</td>\n",
       "      <td>35.0</td>\n",
       "      <td>237.0</td>\n",
       "      <td>92.0</td>\n",
       "      <td>0.388186</td>\n",
       "    </tr>\n",
       "  </tbody>\n",
       "</table>\n",
       "</div>"
      ],
      "text/plain": [
       "   edu  conv. rate  mean  all people  people w/ BL soleent  \\\n",
       "0  1.0    0.578947  11.0        48.0                  19.0   \n",
       "1  2.0    0.346154   9.0        65.0                  26.0   \n",
       "2  3.0    0.380435  35.0       237.0                  92.0   \n",
       "\n",
       "   fraction w/ BL soleent  \n",
       "0                0.395833  \n",
       "1                0.400000  \n",
       "2                0.388186  "
      ]
     },
     "execution_count": 456,
     "metadata": {},
     "output_type": "execute_result"
    }
   ],
   "source": [
    "#Conversion rate chart with binning by edu only \n",
    "# i, POSITIVE, treatment, ent_edu_conv, ageGroup4\n",
    "for i in range(1, 4):\n",
    "        eduGroup = crTableEdu(i, POSITIVE, treatment, ent_edu_conv, eduGroup)\n",
    "cr = conversionRate(POSITIVE, ent_edu_conv[(ent_edu_conv.treatment_x == treatment)])\n",
    "print(\"Conversion rate for edu level 4 (aggregate) is:\", cr)\n",
    "eduGroup"
   ]
  },
  {
   "cell_type": "code",
   "execution_count": 457,
   "metadata": {},
   "outputs": [
    {
     "data": {
      "image/png": "[encoded data removed]",
      "text/plain": [
       "<Figure size 432x288 with 1 Axes>"
      ]
     },
     "metadata": {},
     "output_type": "display_data"
    }
   ],
   "source": [
    "#edu graph (not controlled)\n",
    "ax = sns.barplot(x=\"edu\", y=\"conv. rate\", data=eduGroup)"
   ]
  },
  {
   "cell_type": "code",
   "execution_count": 458,
   "metadata": {},
   "outputs": [
    {
     "data": {
      "text/html": [
       "<div>\n",
       "<style scoped>\n",
       "    .dataframe tbody tr th:only-of-type {\n",
       "        vertical-align: middle;\n",
       "    }\n",
       "\n",
       "    .dataframe tbody tr th {\n",
       "        vertical-align: top;\n",
       "    }\n",
       "\n",
       "    .dataframe thead th {\n",
       "        text-align: right;\n",
       "    }\n",
       "</style>\n",
       "<table border=\"1\" class=\"dataframe\">\n",
       "  <thead>\n",
       "    <tr style=\"text-align: right;\">\n",
       "      <th></th>\n",
       "      <th>age</th>\n",
       "      <th>agebins</th>\n",
       "      <th>conv. rate</th>\n",
       "      <th>mean</th>\n",
       "      <th>all people</th>\n",
       "      <th>people w/ BL soleent</th>\n",
       "      <th>fraction w/ BL soleent</th>\n",
       "      <th>agebin</th>\n",
       "    </tr>\n",
       "  </thead>\n",
       "  <tbody>\n",
       "    <tr>\n",
       "      <th>0</th>\n",
       "      <td>2</td>\n",
       "      <td>NaN</td>\n",
       "      <td>-0.188406</td>\n",
       "      <td>6.0</td>\n",
       "      <td>34</td>\n",
       "      <td>9</td>\n",
       "      <td>0.264706</td>\n",
       "      <td>18-29</td>\n",
       "    </tr>\n",
       "    <tr>\n",
       "      <th>1</th>\n",
       "      <td>3</td>\n",
       "      <td>NaN</td>\n",
       "      <td>0.063562</td>\n",
       "      <td>14.0</td>\n",
       "      <td>89</td>\n",
       "      <td>33</td>\n",
       "      <td>0.370787</td>\n",
       "      <td>30-39</td>\n",
       "    </tr>\n",
       "    <tr>\n",
       "      <th>2</th>\n",
       "      <td>4</td>\n",
       "      <td>NaN</td>\n",
       "      <td>-0.126685</td>\n",
       "      <td>18.0</td>\n",
       "      <td>95</td>\n",
       "      <td>42</td>\n",
       "      <td>0.442105</td>\n",
       "      <td>40-49</td>\n",
       "    </tr>\n",
       "    <tr>\n",
       "      <th>3</th>\n",
       "      <td>5</td>\n",
       "      <td>NaN</td>\n",
       "      <td>0.084211</td>\n",
       "      <td>6.0</td>\n",
       "      <td>42</td>\n",
       "      <td>19</td>\n",
       "      <td>0.452381</td>\n",
       "      <td>50-69</td>\n",
       "    </tr>\n",
       "  </tbody>\n",
       "</table>\n",
       "</div>"
      ],
      "text/plain": [
       "  age  agebins  conv. rate  mean all people people w/ BL soleent  \\\n",
       "0   2      NaN   -0.188406   6.0         34                    9   \n",
       "1   3      NaN    0.063562  14.0         89                   33   \n",
       "2   4      NaN   -0.126685  18.0         95                   42   \n",
       "3   5      NaN    0.084211   6.0         42                   19   \n",
       "\n",
       "   fraction w/ BL soleent agebin  \n",
       "0                0.264706  18-29  \n",
       "1                0.370787  30-39  \n",
       "2                0.442105  40-49  \n",
       "3                0.452381  50-69  "
      ]
     },
     "execution_count": 458,
     "metadata": {},
     "output_type": "execute_result"
    },
    {
     "data": {
      "image/png": "[encoded data removed]",
      "text/plain": [
       "<Figure size 432x288 with 1 Axes>"
      ]
     },
     "metadata": {},
     "output_type": "display_data"
    }
   ],
   "source": [
    "#CONTROLLED: age graph\n",
    "ageGroup4Controlled['conv. rate'] = ageGroup4['conv. rate'] - ageGroup4Controlled['conv. rate']\n",
    "ax = sns.barplot(x=\"agebin\", y=\"conv. rate\", data=ageGroup4Controlled)\n",
    "ageGroup4Controlled"
   ]
  },
  {
   "cell_type": "code",
   "execution_count": 459,
   "metadata": {},
   "outputs": [
    {
     "data": {
      "text/html": [
       "<div>\n",
       "<style scoped>\n",
       "    .dataframe tbody tr th:only-of-type {\n",
       "        vertical-align: middle;\n",
       "    }\n",
       "\n",
       "    .dataframe tbody tr th {\n",
       "        vertical-align: top;\n",
       "    }\n",
       "\n",
       "    .dataframe thead th {\n",
       "        text-align: right;\n",
       "    }\n",
       "</style>\n",
       "<table border=\"1\" class=\"dataframe\">\n",
       "  <thead>\n",
       "    <tr style=\"text-align: right;\">\n",
       "      <th></th>\n",
       "      <th>edu</th>\n",
       "      <th>conv. rate</th>\n",
       "      <th>mean</th>\n",
       "      <th>all people</th>\n",
       "      <th>people w/ BL soleent</th>\n",
       "      <th>fraction w/ BL soleent</th>\n",
       "    </tr>\n",
       "  </thead>\n",
       "  <tbody>\n",
       "    <tr>\n",
       "      <th>0</th>\n",
       "      <td>1.0</td>\n",
       "      <td>0.040486</td>\n",
       "      <td>7.0</td>\n",
       "      <td>39.0</td>\n",
       "      <td>13.0</td>\n",
       "      <td>0.333333</td>\n",
       "    </tr>\n",
       "    <tr>\n",
       "      <th>1</th>\n",
       "      <td>2.0</td>\n",
       "      <td>-0.074899</td>\n",
       "      <td>8.0</td>\n",
       "      <td>56.0</td>\n",
       "      <td>19.0</td>\n",
       "      <td>0.339286</td>\n",
       "    </tr>\n",
       "    <tr>\n",
       "      <th>2</th>\n",
       "      <td>3.0</td>\n",
       "      <td>-0.028016</td>\n",
       "      <td>29.0</td>\n",
       "      <td>165.0</td>\n",
       "      <td>71.0</td>\n",
       "      <td>0.430303</td>\n",
       "    </tr>\n",
       "  </tbody>\n",
       "</table>\n",
       "</div>"
      ],
      "text/plain": [
       "   edu  conv. rate  mean  all people  people w/ BL soleent  \\\n",
       "0  1.0    0.040486   7.0        39.0                  13.0   \n",
       "1  2.0   -0.074899   8.0        56.0                  19.0   \n",
       "2  3.0   -0.028016  29.0       165.0                  71.0   \n",
       "\n",
       "   fraction w/ BL soleent  \n",
       "0                0.333333  \n",
       "1                0.339286  \n",
       "2                0.430303  "
      ]
     },
     "execution_count": 459,
     "metadata": {},
     "output_type": "execute_result"
    },
    {
     "data": {
      "image/png": "[encoded data removed]",
      "text/plain": [
       "<Figure size 432x288 with 1 Axes>"
      ]
     },
     "metadata": {},
     "output_type": "display_data"
    }
   ],
   "source": [
    "#CONTROLLED: edu graph\n",
    "eduGroupControlled['conv. rate'] = eduGroup['conv. rate'] - eduGroupControlled['conv. rate']\n",
    "ax = sns.barplot(x=\"edu\", y=\"conv. rate\", data=eduGroupControlled)\n",
    "eduGroupControlled"
   ]
  },
  {
   "cell_type": "code",
   "execution_count": 460,
   "metadata": {},
   "outputs": [
    {
     "data": {
      "text/html": [
       "<div>\n",
       "<style scoped>\n",
       "    .dataframe tbody tr th:only-of-type {\n",
       "        vertical-align: middle;\n",
       "    }\n",
       "\n",
       "    .dataframe tbody tr th {\n",
       "        vertical-align: top;\n",
       "    }\n",
       "\n",
       "    .dataframe thead th {\n",
       "        text-align: right;\n",
       "    }\n",
       "</style>\n",
       "<table border=\"1\" class=\"dataframe\">\n",
       "  <thead>\n",
       "    <tr style=\"text-align: right;\">\n",
       "      <th></th>\n",
       "      <th>edu</th>\n",
       "      <th>agebin</th>\n",
       "      <th>conv. rate</th>\n",
       "      <th>mean</th>\n",
       "      <th>all people</th>\n",
       "      <th>people w/ BL soleent</th>\n",
       "      <th>fraction w/ BL soleent</th>\n",
       "    </tr>\n",
       "  </thead>\n",
       "  <tbody>\n",
       "    <tr>\n",
       "      <th>0</th>\n",
       "      <td>1</td>\n",
       "      <td>18-29</td>\n",
       "      <td>0.625000</td>\n",
       "      <td>5.0</td>\n",
       "      <td>17</td>\n",
       "      <td>8</td>\n",
       "      <td>0.470588</td>\n",
       "    </tr>\n",
       "    <tr>\n",
       "      <th>1</th>\n",
       "      <td>2</td>\n",
       "      <td>18-29</td>\n",
       "      <td>0.000000</td>\n",
       "      <td>0.0</td>\n",
       "      <td>2</td>\n",
       "      <td>1</td>\n",
       "      <td>0.500000</td>\n",
       "    </tr>\n",
       "    <tr>\n",
       "      <th>2</th>\n",
       "      <td>3</td>\n",
       "      <td>18-29</td>\n",
       "      <td>0.428571</td>\n",
       "      <td>6.0</td>\n",
       "      <td>41</td>\n",
       "      <td>14</td>\n",
       "      <td>0.341463</td>\n",
       "    </tr>\n",
       "    <tr>\n",
       "      <th>3</th>\n",
       "      <td>1</td>\n",
       "      <td>30-39</td>\n",
       "      <td>0.500000</td>\n",
       "      <td>1.0</td>\n",
       "      <td>5</td>\n",
       "      <td>2</td>\n",
       "      <td>0.400000</td>\n",
       "    </tr>\n",
       "    <tr>\n",
       "      <th>4</th>\n",
       "      <td>2</td>\n",
       "      <td>30-39</td>\n",
       "      <td>0.714286</td>\n",
       "      <td>5.0</td>\n",
       "      <td>23</td>\n",
       "      <td>7</td>\n",
       "      <td>0.304348</td>\n",
       "    </tr>\n",
       "    <tr>\n",
       "      <th>5</th>\n",
       "      <td>3</td>\n",
       "      <td>30-39</td>\n",
       "      <td>0.437500</td>\n",
       "      <td>14.0</td>\n",
       "      <td>85</td>\n",
       "      <td>32</td>\n",
       "      <td>0.376471</td>\n",
       "    </tr>\n",
       "    <tr>\n",
       "      <th>6</th>\n",
       "      <td>1</td>\n",
       "      <td>40-49</td>\n",
       "      <td>0.428571</td>\n",
       "      <td>3.0</td>\n",
       "      <td>13</td>\n",
       "      <td>7</td>\n",
       "      <td>0.538462</td>\n",
       "    </tr>\n",
       "    <tr>\n",
       "      <th>7</th>\n",
       "      <td>2</td>\n",
       "      <td>40-49</td>\n",
       "      <td>0.181818</td>\n",
       "      <td>2.0</td>\n",
       "      <td>30</td>\n",
       "      <td>11</td>\n",
       "      <td>0.366667</td>\n",
       "    </tr>\n",
       "    <tr>\n",
       "      <th>8</th>\n",
       "      <td>3</td>\n",
       "      <td>40-49</td>\n",
       "      <td>0.314286</td>\n",
       "      <td>11.0</td>\n",
       "      <td>86</td>\n",
       "      <td>35</td>\n",
       "      <td>0.406977</td>\n",
       "    </tr>\n",
       "    <tr>\n",
       "      <th>9</th>\n",
       "      <td>1</td>\n",
       "      <td>50-69</td>\n",
       "      <td>1.000000</td>\n",
       "      <td>2.0</td>\n",
       "      <td>13</td>\n",
       "      <td>2</td>\n",
       "      <td>0.153846</td>\n",
       "    </tr>\n",
       "    <tr>\n",
       "      <th>10</th>\n",
       "      <td>2</td>\n",
       "      <td>50-69</td>\n",
       "      <td>0.285714</td>\n",
       "      <td>2.0</td>\n",
       "      <td>10</td>\n",
       "      <td>7</td>\n",
       "      <td>0.700000</td>\n",
       "    </tr>\n",
       "    <tr>\n",
       "      <th>11</th>\n",
       "      <td>3</td>\n",
       "      <td>50-69</td>\n",
       "      <td>0.363636</td>\n",
       "      <td>4.0</td>\n",
       "      <td>25</td>\n",
       "      <td>11</td>\n",
       "      <td>0.440000</td>\n",
       "    </tr>\n",
       "  </tbody>\n",
       "</table>\n",
       "</div>"
      ],
      "text/plain": [
       "   edu agebin  conv. rate  mean all people people w/ BL soleent  \\\n",
       "0    1  18-29    0.625000   5.0         17                    8   \n",
       "1    2  18-29    0.000000   0.0          2                    1   \n",
       "2    3  18-29    0.428571   6.0         41                   14   \n",
       "3    1  30-39    0.500000   1.0          5                    2   \n",
       "4    2  30-39    0.714286   5.0         23                    7   \n",
       "5    3  30-39    0.437500  14.0         85                   32   \n",
       "6    1  40-49    0.428571   3.0         13                    7   \n",
       "7    2  40-49    0.181818   2.0         30                   11   \n",
       "8    3  40-49    0.314286  11.0         86                   35   \n",
       "9    1  50-69    1.000000   2.0         13                    2   \n",
       "10   2  50-69    0.285714   2.0         10                    7   \n",
       "11   3  50-69    0.363636   4.0         25                   11   \n",
       "\n",
       "    fraction w/ BL soleent  \n",
       "0                 0.470588  \n",
       "1                 0.500000  \n",
       "2                 0.341463  \n",
       "3                 0.400000  \n",
       "4                 0.304348  \n",
       "5                 0.376471  \n",
       "6                 0.538462  \n",
       "7                 0.366667  \n",
       "8                 0.406977  \n",
       "9                 0.153846  \n",
       "10                0.700000  \n",
       "11                0.440000  "
      ]
     },
     "execution_count": 460,
     "metadata": {},
     "output_type": "execute_result"
    }
   ],
   "source": [
    "#Conversion rate chart with binning by age AND edu\n",
    "if POSITIVE:\n",
    "    eduANDageGroup = pd.DataFrame(columns = ['edu', 'agebin', 'conv. rate', 'mean', 'all people', 'people w/o BL soleent', 'fraction w/o BL soleent']) \n",
    "else:\n",
    "    eduANDageGroup = pd.DataFrame(columns = ['edu', 'agebin', 'conv. rate', 'mean', 'all people', 'people w/ BL soleent', 'fraction w/ BL soleent']) \n",
    "\n",
    "for i in range(2, 6):\n",
    "    for j in range(1, 4):\n",
    "        ap = len(ent_edu_conv[(ent_edu_conv.treatment_x == treatment)&(ent_edu_conv.age == i) & (ent_edu_conv.edu == j)])\n",
    "        agebin = ent_edu_conv[(ent_edu_conv['age'] == i)].iloc[0]['agebin']\n",
    "        if ap != 0:\n",
    "            cr = conversionRate(POSITIVE, ent_edu_conv[(ent_edu_conv.treatment_x == treatment)&(ent_edu_conv.age == i) & (ent_edu_conv.edu == j)])\n",
    "            if POSITIVE: #set baseline sample size to be number of people without soleent at baseline\n",
    "                blSS = len(ent_edu_conv[(ent_edu_conv.treatment_x == treatment)&(ent_edu_conv.age == i) & (ent_edu_conv.edu == j) & (ent_edu_conv.soleent == 0)])\n",
    "                pmf = binRanVarPMF(blSS, cr)\n",
    "                eduANDageGroup = eduANDageGroup.append({'edu': j, 'agebin': agebin, 'conv. rate': cr, 'mean' : mean(pmf, blSS), 'all people' : ap, 'people w/o BL soleent':blSS, 'fraction w/o BL soleent' : blSS/ap}, ignore_index=True)\n",
    "            else: #set baseline sample size to be number of people with soleent at baseline\n",
    "                blSS = len(ent_edu_conv[(ent_edu_conv.treatment_x == treatment)&(ent_edu_conv.age == i) & (ent_edu_conv.edu == j) & (ent_edu_conv.soleent == 1)])\n",
    "                pmf = binRanVarPMF(blSS, cr)\n",
    "                eduANDageGroup = eduANDageGroup.append({'edu': j, 'agebin': agebin, 'conv. rate': cr, 'mean' : mean(pmf, blSS), 'all people' : ap, 'people w/ BL soleent':blSS, 'fraction w/ BL soleent' : blSS/ap}, ignore_index=True)\n",
    "        else:\n",
    "            eduANDageGroup = eduANDageGroup.append({'edu': j, 'agebin': agebin, 'conv. rate': 0, 'mean' : 0, 'all people' : 0, 'people w/o BL soleent':0, 'fraction w/o BL soleent' : 0}, ignore_index=True)\n",
    "\n",
    "eduANDageGroup"
   ]
  },
  {
   "cell_type": "code",
   "execution_count": 461,
   "metadata": {},
   "outputs": [
    {
     "data": {
      "image/png": "[encoded data removed]",
      "text/plain": [
       "<Figure size 432x288 with 2 Axes>"
      ]
     },
     "metadata": {},
     "output_type": "display_data"
    }
   ],
   "source": [
    "eduANDageGroupGraphing = eduANDageGroup.pivot(\"edu\", \"agebin\", \"conv. rate\")\n",
    "ax = sns.heatmap(eduANDageGroupGraphing, annot=True)"
   ]
  },
  {
   "cell_type": "code",
   "execution_count": null,
   "metadata": {},
   "outputs": [],
   "source": []
  },
  {
   "cell_type": "code",
   "execution_count": null,
   "metadata": {},
   "outputs": [],
   "source": []
  },
  {
   "cell_type": "raw",
   "metadata": {},
   "source": [
    "g"
   ]
  }
 ],
 "metadata": {
  "kernelspec": {
   "display_name": "Python 3",
   "language": "python",
   "name": "python3"
  },
  "language_info": {
   "codemirror_mode": {
    "name": "ipython",
    "version": 3
   },
   "file_extension": ".py",
   "mimetype": "text/x-python",
   "name": "python",
   "nbconvert_exporter": "python",
   "pygments_lexer": "ipython3",
   "version": "3.6.5"
  }
 },
 "nbformat": 4,
 "nbformat_minor": 2
}
